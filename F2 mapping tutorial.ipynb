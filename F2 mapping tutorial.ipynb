{
 "cells": [
  {
   "cell_type": "code",
   "execution_count": 1,
   "metadata": {
    "collapsed": false,
    "scrolled": true
   },
   "outputs": [
    {
     "name": "stderr",
     "output_type": "stream",
     "text": [
      "Loading required package: install.load\n",
      "\n",
      "Attaching package: ‘dplyr’\n",
      "\n",
      "The following objects are masked from ‘package:plyr’:\n",
      "\n",
      "    arrange, count, desc, failwith, id, mutate, rename, summarise,\n",
      "    summarize\n",
      "\n",
      "The following objects are masked from ‘package:stats’:\n",
      "\n",
      "    filter, lag\n",
      "\n",
      "The following objects are masked from ‘package:base’:\n",
      "\n",
      "    intersect, setdiff, setequal, union\n",
      "\n",
      "\n",
      "Attaching package: ‘car’\n",
      "\n",
      "The following object is masked from ‘package:dplyr’:\n",
      "\n",
      "    recode\n",
      "\n",
      "\n",
      "Attaching package: ‘cowplot’\n",
      "\n",
      "The following object is masked from ‘package:ggplot2’:\n",
      "\n",
      "    ggsave\n",
      "\n",
      "Loading required package: Matrix\n",
      "\n",
      "Attaching package: ‘Matrix’\n",
      "\n",
      "The following object is masked from ‘package:tidyr’:\n",
      "\n",
      "    expand\n",
      "\n",
      "Loading required package: coda\n",
      "Loading required package: ape\n",
      "Loading required package: sgeostat\n",
      "sROC 0.1-2 loaded\n"
     ]
    }
   ],
   "source": [
    "if(!require(install.load)) {install.packages(\"install.load\");\n",
    "library(install.load)}\n",
    "install_load(\"plyr\", \"dplyr\", \"tidyr\", \"readr\", \"car\",\n",
    "             \"ggplot2\", \"cowplot\",\n",
    "             \"MCMCglmm\", \"evolqg\",\n",
    "             \"devtools\", \"mvoutlier\")"
   ]
  },
  {
   "cell_type": "markdown",
   "metadata": {},
   "source": [
    "# Outline"
   ]
  },
  {
   "cell_type": "markdown",
   "metadata": {},
   "source": [
    "Introduce the goals and approaches we will use -\n",
    "Start with mapping in an F2 (pros and cons - loads of LD but no population structure)\n",
    "Look at the structure of data sets and distribution of traits.\n",
    "Use F2 data to do basic analysis. Can start with ANOVA model (use marker 16 and trait 2a since that is a simulated QTL) and look at output.  We can then run that as a regression model.  Finally, we can create dominance index variable to separate additive from dominance effect.  I did not simulate any dominance effects, so maybe I need to go back and make the locus have both effects! (since it would be nice to see how the separation of a and d provides information - I’ll add this to the to-do list)\n",
    " \n",
    "We can then talk about using this model for an iterative analysis that walks across markers.  Discuss use of LPR or LOD as a measure of significance.  Look at how the single locus measure of significance is not a definitive test because LD causes an autocorrelation in effects across sites.\n",
    " \n",
    "Run this iterative model for trait 3a, which has two QTL.  Look at the position of peaks. (maybe I should also simulate a trait, like 3b that has two QTL but of opposite sign so we can also see interference - I’ll also add this to the to-do list).\n",
    " \n",
    "Discuss using marker co-factors to identify locations of QTL.\n",
    " \n",
    "Next we can discuss significance testing - permutation of either G or P to generate distribution under null model.  Run the model for trait 1 - should be biased if the model assumes normality (since it is a highly skewed trait).  Can use the empirical distribution to adjust threshold. \n",
    " \n",
    "We can also use this model to simulate a true positive and look at power.  Simulate an effect size of 1%, 2%, 5% and look at proportion that beat the significance threshold.\n",
    " \n",
    "Introduce the F3 and the importance of population stratification.\n",
    " \n",
    "We could start by running the null model for the simulated markers and look at the inflation of false positive?  Then run a permutation with total randomization to show that it would appear unbiased if we ignored population structure.  We can then introduce the mixed model analysis to account for population structure (perhaps Alastair can also comment on this in relation to a population with a complex pedigree). Then re-run the analysis of the null model?\n",
    " \n",
    "I simulated one pleiotropic QTL in the F3 - so we can analyze the effect on traits 2a and 3a and we should see the same QTL appear - we can discuss this in relation to pleiotropy.\n",
    " \n",
    "Lab session later in the week:\n",
    "Genome prediction - fitting a model with all markers to predict phenotypes and how this can be used to estimate a genomic breeding value (basically a sort of BLUE for an individual based on their markers while estimating their BLUP from the random effects)\n",
    " \n",
    "Multivariate model - go back to pleiotropic QTL and discuss how we could estimate the vector of effect while fitting G?"
   ]
  },
  {
   "cell_type": "markdown",
   "metadata": {},
   "source": [
    "# Introduction to QTL mapping"
   ]
  },
  {
   "cell_type": "markdown",
   "metadata": {},
   "source": [
    "We'll begin this tutorial with a simple unstructured F2 population. This is a population resulting from one generation of random mating of a hibrid population formed by breeding two pure strains.\n",
    "\n",
    "![](f2pop.png)\n",
    "\n",
    "Let's first read the data we need and make some plots to see if our traits were measured and imported correctly."
   ]
  },
  {
   "cell_type": "markdown",
   "metadata": {},
   "source": [
    "# Reading and plotting data"
   ]
  },
  {
   "cell_type": "code",
   "execution_count": 2,
   "metadata": {
    "collapsed": false,
    "scrolled": true
   },
   "outputs": [
    {
     "name": "stderr",
     "output_type": "stream",
     "text": [
      "Parsed with column specification:\n",
      "cols(\n",
      "  .default = col_integer(),\n",
      "  Sex = col_character(),\n",
      "  trait1 = col_double(),\n",
      "  trait2 = col_double(),\n",
      "  trait3 = col_double(),\n",
      "  Trait2a = col_double(),\n",
      "  Trait3a = col_double()\n",
      ")\n",
      "See spec(...) for full column specifications.\n"
     ]
    },
    {
     "data": {
      "text/html": [
       "<table>\n",
       "<thead><tr><th scope=col>ID</th><th scope=col>Sex</th><th scope=col>Sire</th><th scope=col>Dam</th><th scope=col>LSB</th><th scope=col>LSW</th><th scope=col>trait1</th><th scope=col>trait2</th><th scope=col>trait3</th><th scope=col>G1</th><th scope=col>⋯</th><th scope=col>G24</th><th scope=col>G25</th><th scope=col>G26</th><th scope=col>G27</th><th scope=col>G28</th><th scope=col>G29</th><th scope=col>G30</th><th scope=col>G31</th><th scope=col>Trait2a</th><th scope=col>Trait3a</th></tr></thead>\n",
       "<tbody>\n",
       "\t<tr><td>55       </td><td>M        </td><td> 0       </td><td>13       </td><td> 9       </td><td> 9       </td><td>2.7840078</td><td> 84.136  </td><td>30.702   </td><td> 1       </td><td>⋯        </td><td> 0       </td><td> 0       </td><td> 0       </td><td> 0       </td><td> 0       </td><td> 0       </td><td> 0       </td><td> 0       </td><td> 84.13600</td><td>30.70200 </td></tr>\n",
       "\t<tr><td>56       </td><td>M        </td><td> 0       </td><td>13       </td><td> 9       </td><td> 9       </td><td>2.9961462</td><td> 91.376  </td><td>37.442   </td><td>-1       </td><td>⋯        </td><td> 0       </td><td> 0       </td><td> 0       </td><td>-1       </td><td>-1       </td><td>-1       </td><td> 0       </td><td> 1       </td><td> 89.29098</td><td>34.34656 </td></tr>\n",
       "\t<tr><td>57       </td><td>M        </td><td> 0       </td><td>13       </td><td> 9       </td><td> 9       </td><td>4.4964274</td><td> 97.516  </td><td>44.382   </td><td> 0       </td><td>⋯        </td><td> 0       </td><td> 1       </td><td> 1       </td><td> 1       </td><td> 0       </td><td> 0       </td><td> 0       </td><td> 0       </td><td> 97.51600</td><td>44.38200 </td></tr>\n",
       "\t<tr><td>58       </td><td>F        </td><td> 0       </td><td>13       </td><td> 9       </td><td> 9       </td><td>4.1677393</td><td> 86.236  </td><td>27.362   </td><td> 0       </td><td>⋯        </td><td>-1       </td><td>-1       </td><td>-1       </td><td>-1       </td><td>-1       </td><td>-1       </td><td>-1       </td><td>-1       </td><td> 84.15098</td><td>25.81428 </td></tr>\n",
       "\t<tr><td>59       </td><td>M        </td><td> 0       </td><td>13       </td><td> 9       </td><td> 9       </td><td>8.3322971</td><td> 90.316  </td><td>47.872   </td><td>-1       </td><td>⋯        </td><td>-1       </td><td>-1       </td><td>-1       </td><td>-1       </td><td>-1       </td><td>-1       </td><td> 0       </td><td> 0       </td><td> 88.23098</td><td>44.77656 </td></tr>\n",
       "\t<tr><td>60       </td><td>F        </td><td> 0       </td><td>13       </td><td> 9       </td><td> 9       </td><td>6.0586791</td><td> 74.856  </td><td>31.912   </td><td> 1       </td><td>⋯        </td><td> 0       </td><td> 0       </td><td> 0       </td><td> 0       </td><td> 0       </td><td> 0       </td><td> 0       </td><td> 0       </td><td> 74.85600</td><td>31.91200 </td></tr>\n",
       "\t<tr><td>61       </td><td>F        </td><td> 0       </td><td>13       </td><td> 9       </td><td> 9       </td><td>5.2987302</td><td> 91.926  </td><td>34.582   </td><td>-1       </td><td>⋯        </td><td>-1       </td><td>-1       </td><td>-1       </td><td>-1       </td><td>-1       </td><td>-1       </td><td>-1       </td><td>-1       </td><td> 89.84098</td><td>31.48656 </td></tr>\n",
       "\t<tr><td>62       </td><td>M        </td><td> 0       </td><td>13       </td><td> 9       </td><td> 9       </td><td>5.0645314</td><td> 95.696  </td><td>45.092   </td><td> 1       </td><td>⋯        </td><td> 0       </td><td> 0       </td><td> 0       </td><td> 0       </td><td>-1       </td><td>-1       </td><td>-1       </td><td>-1       </td><td> 95.69600</td><td>45.09200 </td></tr>\n",
       "\t<tr><td>63       </td><td>F        </td><td> 0       </td><td>13       </td><td> 9       </td><td> 9       </td><td>4.7603125</td><td> 86.126  </td><td>25.982   </td><td> 0       </td><td>⋯        </td><td> 0       </td><td> 0       </td><td> 0       </td><td> 0       </td><td> 0       </td><td> 0       </td><td> 0       </td><td> 0       </td><td> 86.12600</td><td>25.98200 </td></tr>\n",
       "\t<tr><td>64       </td><td>F        </td><td> 0       </td><td>13       </td><td>11       </td><td>11       </td><td>1.0888584</td><td> 91.126  </td><td>32.162   </td><td> 1       </td><td>⋯        </td><td> 0       </td><td> 0       </td><td> 0       </td><td> 0       </td><td> 0       </td><td> 0       </td><td> 0       </td><td> 0       </td><td> 91.12600</td><td>32.16200 </td></tr>\n",
       "\t<tr><td>65       </td><td>F        </td><td> 0       </td><td>13       </td><td>11       </td><td>11       </td><td>1.1838771</td><td> 97.186  </td><td>28.232   </td><td> 0       </td><td>⋯        </td><td> 1       </td><td> 1       </td><td> 0       </td><td> 0       </td><td> 0       </td><td> 0       </td><td> 0       </td><td> 0       </td><td> 97.18600</td><td>29.77972 </td></tr>\n",
       "\t<tr><td>66       </td><td>F        </td><td> 0       </td><td>13       </td><td>11       </td><td>11       </td><td>0.7492970</td><td> 93.536  </td><td>37.602   </td><td> 0       </td><td>⋯        </td><td> 1       </td><td> 1       </td><td> 1       </td><td> 1       </td><td> 1       </td><td> 1       </td><td> 1       </td><td> 1       </td><td> 95.62102</td><td>40.69744 </td></tr>\n",
       "\t<tr><td>67       </td><td>F        </td><td> 0       </td><td>13       </td><td>11       </td><td>11       </td><td>0.7780688</td><td> 97.186  </td><td>31.422   </td><td> 1       </td><td>⋯        </td><td> 1       </td><td> 1       </td><td> 1       </td><td> 1       </td><td> 1       </td><td> 1       </td><td> 1       </td><td> 1       </td><td> 99.27102</td><td>34.51744 </td></tr>\n",
       "\t<tr><td>69       </td><td>M        </td><td> 0       </td><td>13       </td><td>11       </td><td>11       </td><td>1.6001284</td><td> 97.476  </td><td>36.482   </td><td>-1       </td><td>⋯        </td><td> 1       </td><td> 1       </td><td> 1       </td><td> 1       </td><td> 1       </td><td> 1       </td><td> 1       </td><td> 1       </td><td> 97.47600</td><td>36.48200 </td></tr>\n",
       "\t<tr><td>70       </td><td>F        </td><td> 0       </td><td>13       </td><td>11       </td><td>11       </td><td>1.4331547</td><td> 97.166  </td><td>31.212   </td><td> 1       </td><td>⋯        </td><td> 0       </td><td>-1       </td><td>-1       </td><td>-1       </td><td>-1       </td><td>-1       </td><td>-1       </td><td>-1       </td><td> 99.25102</td><td>34.30744 </td></tr>\n",
       "\t<tr><td>71       </td><td>M        </td><td> 0       </td><td>13       </td><td>11       </td><td>11       </td><td>3.8746510</td><td>100.406  </td><td>41.802   </td><td> 0       </td><td>⋯        </td><td> 0       </td><td> 0       </td><td> 0       </td><td> 0       </td><td> 0       </td><td> 0       </td><td> 0       </td><td> 0       </td><td>100.40600</td><td>41.80200 </td></tr>\n",
       "\t<tr><td>72       </td><td>M        </td><td> 0       </td><td>13       </td><td>11       </td><td>11       </td><td>2.9011491</td><td> 90.076  </td><td>35.232   </td><td> 0       </td><td>⋯        </td><td>-1       </td><td>-1       </td><td>-1       </td><td>-1       </td><td>-1       </td><td>-1       </td><td>-1       </td><td>-1       </td><td> 90.07600</td><td>33.68428 </td></tr>\n",
       "\t<tr><td>73       </td><td>M        </td><td> 0       </td><td>13       </td><td>11       </td><td>11       </td><td>3.0200725</td><td> 98.550  </td><td>41.972   </td><td> 0       </td><td>⋯        </td><td> 0       </td><td> 0       </td><td> 0       </td><td> 0       </td><td> 0       </td><td> 0       </td><td> 1       </td><td> 1       </td><td>100.63502</td><td>43.51972 </td></tr>\n",
       "\t<tr><td>74       </td><td>M        </td><td> 0       </td><td>13       </td><td>11       </td><td>11       </td><td>2.2471589</td><td>103.306  </td><td>39.032   </td><td>-1       </td><td>⋯        </td><td> 0       </td><td> 0       </td><td> 0       </td><td> 0       </td><td> 0       </td><td> 0       </td><td> 0       </td><td> 0       </td><td>103.30600</td><td>37.48428 </td></tr>\n",
       "\t<tr><td>82       </td><td>M        </td><td>15       </td><td>10       </td><td> 9       </td><td> 2       </td><td>4.3885895</td><td> 88.168  </td><td>39.690   </td><td> 0       </td><td>⋯        </td><td> 0       </td><td> 0       </td><td> 0       </td><td> 0       </td><td> 0       </td><td> 0       </td><td> 0       </td><td> 0       </td><td> 88.16800</td><td>41.23772 </td></tr>\n",
       "\t<tr><td>83       </td><td>M        </td><td>15       </td><td>10       </td><td> 9       </td><td> 2       </td><td>4.5828357</td><td> 93.558  </td><td>46.960   </td><td> 0       </td><td>⋯        </td><td> 0       </td><td> 0       </td><td> 0       </td><td> 0       </td><td> 0       </td><td> 0       </td><td> 0       </td><td> 0       </td><td> 95.64302</td><td>50.05544 </td></tr>\n",
       "\t<tr><td>84       </td><td>M        </td><td>16       </td><td>12       </td><td> 7       </td><td> 5       </td><td>5.2427527</td><td> 86.053  </td><td>43.940   </td><td>-1       </td><td>⋯        </td><td>-1       </td><td>-1       </td><td>-1       </td><td>-1       </td><td>-1       </td><td>-1       </td><td>-1       </td><td>-1       </td><td> 83.96798</td><td>40.84456 </td></tr>\n",
       "\t<tr><td>85       </td><td>M        </td><td>16       </td><td>12       </td><td> 7       </td><td> 5       </td><td>1.6977471</td><td> 83.253  </td><td>33.890   </td><td> 0       </td><td>⋯        </td><td> 0       </td><td> 0       </td><td> 0       </td><td> 0       </td><td> 0       </td><td> 0       </td><td> 0       </td><td> 0       </td><td> 83.25300</td><td>33.89000 </td></tr>\n",
       "\t<tr><td>86       </td><td>M        </td><td>16       </td><td>12       </td><td> 7       </td><td> 5       </td><td>7.2132029</td><td> 96.193  </td><td>47.840   </td><td> 1       </td><td>⋯        </td><td> 0       </td><td> 0       </td><td> 0       </td><td> 0       </td><td> 0       </td><td> 0       </td><td> 0       </td><td> 0       </td><td> 96.19300</td><td>47.84000 </td></tr>\n",
       "\t<tr><td>87       </td><td>M        </td><td>16       </td><td>12       </td><td> 7       </td><td> 5       </td><td>1.7171386</td><td> 86.183  </td><td>34.860   </td><td> 0       </td><td>⋯        </td><td> 0       </td><td> 0       </td><td> 0       </td><td> 0       </td><td> 0       </td><td> 0       </td><td> 1       </td><td> 1       </td><td> 86.18300</td><td>34.86000 </td></tr>\n",
       "\t<tr><td>90       </td><td>M        </td><td>16       </td><td>12       </td><td> 7       </td><td> 5       </td><td>5.2721871</td><td> 92.243  </td><td>47.600   </td><td> 1       </td><td>⋯        </td><td> 0       </td><td> 0       </td><td> 0       </td><td>-1       </td><td>-1       </td><td>-1       </td><td>-1       </td><td>-1       </td><td> 92.24300</td><td>47.60000 </td></tr>\n",
       "\t<tr><td>91       </td><td>F        </td><td> 4       </td><td>17       </td><td>12       </td><td>12       </td><td>2.0840940</td><td> 77.051  </td><td>30.942   </td><td> 0       </td><td>⋯        </td><td> 1       </td><td> 1       </td><td> 1       </td><td> 1       </td><td> 1       </td><td> 1       </td><td> 1       </td><td> 1       </td><td> 79.13602</td><td>32.48972 </td></tr>\n",
       "\t<tr><td>92       </td><td>M        </td><td> 4       </td><td>17       </td><td>12       </td><td>12       </td><td>2.4946120</td><td> 92.851  </td><td>30.812   </td><td> 0       </td><td>⋯        </td><td> 1       </td><td> 1       </td><td> 1       </td><td> 1       </td><td> 1       </td><td> 1       </td><td> 1       </td><td> 1       </td><td> 94.93602</td><td>33.90744 </td></tr>\n",
       "\t<tr><td>93       </td><td>M        </td><td> 4       </td><td>17       </td><td>12       </td><td>12       </td><td>3.6485070</td><td> 97.441  </td><td>40.372   </td><td> 0       </td><td>⋯        </td><td> 0       </td><td> 0       </td><td> 0       </td><td> 0       </td><td> 0       </td><td> 0       </td><td> 0       </td><td> 0       </td><td> 97.44100</td><td>40.37200 </td></tr>\n",
       "\t<tr><td>94       </td><td>M        </td><td> 4       </td><td>17       </td><td>12       </td><td>12       </td><td>5.6060066</td><td> 84.361  </td><td>46.422   </td><td> 0       </td><td>⋯        </td><td> 0       </td><td> 0       </td><td> 0       </td><td>-1       </td><td>-1       </td><td>-1       </td><td>-1       </td><td>-1       </td><td> 84.36100</td><td>46.42200 </td></tr>\n",
       "\t<tr><td>⋮</td><td>⋮</td><td>⋮</td><td>⋮</td><td>⋮</td><td>⋮</td><td>⋮</td><td>⋮</td><td>⋮</td><td>⋮</td><td>⋱</td><td>⋮</td><td>⋮</td><td>⋮</td><td>⋮</td><td>⋮</td><td>⋮</td><td>⋮</td><td>⋮</td><td>⋮</td><td>⋮</td></tr>\n",
       "\t<tr><td>1193     </td><td>F        </td><td>45       </td><td>35       </td><td> 5       </td><td>12       </td><td>2.240721 </td><td> 94.663  </td><td>25.160   </td><td> 0       </td><td>⋯        </td><td> 1       </td><td> 0       </td><td> 0       </td><td> 0       </td><td> 0       </td><td> 0       </td><td> 0       </td><td> 0       </td><td> 96.74802</td><td>28.25544 </td></tr>\n",
       "\t<tr><td>1194     </td><td>M        </td><td>45       </td><td>35       </td><td> 5       </td><td>12       </td><td>2.730726 </td><td> 97.223  </td><td>40.190   </td><td>-1       </td><td>⋯        </td><td> 1       </td><td> 0       </td><td> 0       </td><td> 0       </td><td> 0       </td><td> 0       </td><td> 0       </td><td> 0       </td><td> 99.30802</td><td>41.73772 </td></tr>\n",
       "\t<tr><td>1295     </td><td>M        </td><td>42       </td><td>36       </td><td> 4       </td><td> 8       </td><td>4.839992 </td><td> 94.128  </td><td>44.674   </td><td>-1       </td><td>⋯        </td><td> 1       </td><td> 1       </td><td> 0       </td><td> 0       </td><td> 0       </td><td> 0       </td><td> 0       </td><td> 0       </td><td> 94.12800</td><td>44.67400 </td></tr>\n",
       "\t<tr><td>1296     </td><td>F        </td><td>42       </td><td>36       </td><td> 4       </td><td> 8       </td><td>2.208632 </td><td> 93.078  </td><td>28.184   </td><td>-1       </td><td>⋯        </td><td> 0       </td><td> 0       </td><td> 0       </td><td> 1       </td><td> 1       </td><td> 1       </td><td> 1       </td><td> 0       </td><td> 93.07800</td><td>25.08856 </td></tr>\n",
       "\t<tr><td>1297     </td><td>M        </td><td>42       </td><td>36       </td><td> 4       </td><td> 8       </td><td>3.000926 </td><td> 96.698  </td><td>44.394   </td><td> 0       </td><td>⋯        </td><td> 1       </td><td> 0       </td><td> 0       </td><td> 0       </td><td> 0       </td><td> 0       </td><td> 0       </td><td> 0       </td><td> 98.78302</td><td>47.48944 </td></tr>\n",
       "\t<tr><td>1298     </td><td>F        </td><td>42       </td><td>36       </td><td> 4       </td><td> 8       </td><td>2.381743 </td><td> 92.958  </td><td>26.764   </td><td>-1       </td><td>⋯        </td><td> 1       </td><td> 1       </td><td> 1       </td><td> 1       </td><td> 1       </td><td> 1       </td><td> 1       </td><td> 0       </td><td> 90.87298</td><td>25.21628 </td></tr>\n",
       "\t<tr><td>1299     </td><td>F        </td><td>41       </td><td> 9       </td><td> 4       </td><td> 8       </td><td>1.460508 </td><td> 90.350  </td><td>25.972   </td><td>-1       </td><td>⋯        </td><td> 0       </td><td> 0       </td><td> 0       </td><td> 1       </td><td> 1       </td><td> 1       </td><td> 1       </td><td> 0       </td><td> 88.26498</td><td>24.42428 </td></tr>\n",
       "\t<tr><td>1300     </td><td>F        </td><td>41       </td><td> 9       </td><td> 4       </td><td> 8       </td><td>1.686151 </td><td> 86.210  </td><td>27.102   </td><td>-1       </td><td>⋯        </td><td> 1       </td><td> 1       </td><td> 1       </td><td> 1       </td><td> 1       </td><td> 1       </td><td> 1       </td><td> 0       </td><td> 86.21000</td><td>27.10200 </td></tr>\n",
       "\t<tr><td>1301     </td><td>F        </td><td>41       </td><td> 9       </td><td> 4       </td><td> 8       </td><td>2.936640 </td><td> 97.250  </td><td>38.302   </td><td> 0       </td><td>⋯        </td><td> 1       </td><td> 0       </td><td> 0       </td><td> 0       </td><td> 0       </td><td> 0       </td><td> 0       </td><td> 0       </td><td> 99.33502</td><td>39.84972 </td></tr>\n",
       "\t<tr><td>1302     </td><td>M        </td><td>41       </td><td> 9       </td><td> 4       </td><td> 8       </td><td>1.764011 </td><td> 90.584  </td><td>34.292   </td><td> 1       </td><td>⋯        </td><td> 1       </td><td> 1       </td><td> 1       </td><td> 1       </td><td> 1       </td><td> 1       </td><td> 1       </td><td> 1       </td><td> 92.66902</td><td>37.38744 </td></tr>\n",
       "\t<tr><td>1437     </td><td>F        </td><td>41       </td><td> 9       </td><td> 6       </td><td>10       </td><td>2.521450 </td><td> 86.280  </td><td>29.212   </td><td> 0       </td><td>⋯        </td><td> 0       </td><td> 0       </td><td> 0       </td><td> 0       </td><td> 0       </td><td> 0       </td><td> 0       </td><td> 0       </td><td> 86.28000</td><td>29.21200 </td></tr>\n",
       "\t<tr><td>1438     </td><td>F        </td><td>41       </td><td> 9       </td><td> 6       </td><td>10       </td><td>2.589012 </td><td> 98.960  </td><td>32.812   </td><td> 0       </td><td>⋯        </td><td> 1       </td><td> 1       </td><td> 0       </td><td> 0       </td><td> 0       </td><td> 0       </td><td> 0       </td><td> 0       </td><td>101.04502</td><td>35.90744 </td></tr>\n",
       "\t<tr><td>1439     </td><td>F        </td><td>41       </td><td> 9       </td><td> 6       </td><td>10       </td><td>3.250871 </td><td> 89.600  </td><td>31.602   </td><td> 1       </td><td>⋯        </td><td> 1       </td><td> 1       </td><td> 1       </td><td> 1       </td><td> 1       </td><td> 1       </td><td> 1       </td><td> 1       </td><td> 89.60000</td><td>33.14972 </td></tr>\n",
       "\t<tr><td>1440     </td><td>M        </td><td>41       </td><td> 9       </td><td> 6       </td><td>10       </td><td>2.589012 </td><td> 96.320  </td><td>40.652   </td><td> 0       </td><td>⋯        </td><td> 1       </td><td> 1       </td><td> 0       </td><td> 0       </td><td> 0       </td><td> 0       </td><td> 0       </td><td> 0       </td><td> 96.32000</td><td>42.19972 </td></tr>\n",
       "\t<tr><td>1441     </td><td>M        </td><td>41       </td><td> 9       </td><td> 6       </td><td>10       </td><td>3.177307 </td><td> 97.050  </td><td>39.212   </td><td> 1       </td><td>⋯        </td><td> 1       </td><td> 1       </td><td> 0       </td><td> 0       </td><td> 0       </td><td> 0       </td><td>-1       </td><td>-1       </td><td> 99.13502</td><td>42.30744 </td></tr>\n",
       "\t<tr><td>1442     </td><td>F        </td><td>41       </td><td> 9       </td><td> 6       </td><td>10       </td><td>2.344552 </td><td> 85.050  </td><td>31.082   </td><td>-1       </td><td>⋯        </td><td> 1       </td><td> 1       </td><td> 0       </td><td> 0       </td><td> 0       </td><td> 0       </td><td> 0       </td><td> 0       </td><td> 85.05000</td><td>32.62972 </td></tr>\n",
       "\t<tr><td>1443     </td><td>M        </td><td>31       </td><td> 6       </td><td>13       </td><td>10       </td><td>6.239614 </td><td> 97.306  </td><td>46.882   </td><td> 1       </td><td>⋯        </td><td> 1       </td><td> 1       </td><td> 0       </td><td> 0       </td><td> 0       </td><td> 0       </td><td> 0       </td><td> 0       </td><td> 99.39102</td><td>49.97744 </td></tr>\n",
       "\t<tr><td>1445     </td><td>M        </td><td>31       </td><td> 6       </td><td>13       </td><td>10       </td><td>6.145780 </td><td> 97.196  </td><td>47.312   </td><td> 0       </td><td>⋯        </td><td> 0       </td><td> 0       </td><td> 0       </td><td> 0       </td><td> 0       </td><td> 0       </td><td> 0       </td><td> 0       </td><td> 97.19600</td><td>47.31200 </td></tr>\n",
       "\t<tr><td>1446     </td><td>M        </td><td>31       </td><td> 6       </td><td>13       </td><td>10       </td><td>4.465913 </td><td> 98.426  </td><td>43.812   </td><td> 1       </td><td>⋯        </td><td> 0       </td><td> 0       </td><td> 1       </td><td> 0       </td><td> 0       </td><td> 0       </td><td>-1       </td><td>-1       </td><td> 98.42600</td><td>45.35972 </td></tr>\n",
       "\t<tr><td>1447     </td><td>F        </td><td>31       </td><td> 6       </td><td>13       </td><td>12       </td><td>2.712283 </td><td> 82.736  </td><td>26.992   </td><td> 0       </td><td>⋯        </td><td> 0       </td><td> 0       </td><td> 0       </td><td>-1       </td><td>-1       </td><td>-1       </td><td>-1       </td><td>-1       </td><td> 82.73600</td><td>26.99200 </td></tr>\n",
       "\t<tr><td>1448     </td><td>M        </td><td>31       </td><td> 6       </td><td>13       </td><td>12       </td><td>2.309748 </td><td>100.126  </td><td>40.762   </td><td> 0       </td><td>⋯        </td><td> 0       </td><td> 0       </td><td> 0       </td><td> 0       </td><td> 0       </td><td> 0       </td><td> 0       </td><td> 0       </td><td>100.12600</td><td>40.76200 </td></tr>\n",
       "\t<tr><td>1449     </td><td>F        </td><td>31       </td><td> 6       </td><td>13       </td><td>12       </td><td>3.089857 </td><td>104.106  </td><td>30.632   </td><td> 1       </td><td>⋯        </td><td> 0       </td><td> 0       </td><td> 0       </td><td> 0       </td><td> 0       </td><td> 0       </td><td> 0       </td><td> 0       </td><td>104.10600</td><td>32.17972 </td></tr>\n",
       "\t<tr><td>1451     </td><td>M        </td><td>31       </td><td> 6       </td><td>13       </td><td>12       </td><td>5.148974 </td><td> 88.666  </td><td>40.412   </td><td> 1       </td><td>⋯        </td><td> 1       </td><td> 0       </td><td> 0       </td><td> 1       </td><td> 1       </td><td> 1       </td><td> 0       </td><td> 0       </td><td> 90.75102</td><td>43.50744 </td></tr>\n",
       "\t<tr><td>1452     </td><td>M        </td><td>31       </td><td> 6       </td><td>13       </td><td>12       </td><td>3.359891 </td><td>106.176  </td><td>44.112   </td><td> 1       </td><td>⋯        </td><td> 1       </td><td> 1       </td><td> 1       </td><td> 1       </td><td> 1       </td><td> 1       </td><td> 0       </td><td> 0       </td><td>108.26102</td><td>47.20744 </td></tr>\n",
       "\t<tr><td>1453     </td><td>F        </td><td>31       </td><td> 6       </td><td>13       </td><td>12       </td><td>1.523216 </td><td> 87.186  </td><td>27.452   </td><td> 1       </td><td>⋯        </td><td> 1       </td><td> 1       </td><td> 1       </td><td> 1       </td><td> 1       </td><td> 1       </td><td> 1       </td><td> 1       </td><td> 89.27102</td><td>30.54744 </td></tr>\n",
       "\t<tr><td>1454     </td><td>M        </td><td>31       </td><td> 6       </td><td>13       </td><td>12       </td><td>4.689586 </td><td> 94.156  </td><td>41.692   </td><td> 0       </td><td>⋯        </td><td> 0       </td><td> 0       </td><td> 0       </td><td> 0       </td><td>-1       </td><td>-1       </td><td>-1       </td><td>-1       </td><td> 92.07098</td><td>38.59656 </td></tr>\n",
       "\t<tr><td>1455     </td><td>F        </td><td>31       </td><td> 6       </td><td>13       </td><td>12       </td><td>2.159765 </td><td> 88.106  </td><td>32.652   </td><td> 1       </td><td>⋯        </td><td> 0       </td><td> 1       </td><td> 1       </td><td> 1       </td><td> 1       </td><td> 1       </td><td> 0       </td><td> 0       </td><td> 88.10600</td><td>34.19972 </td></tr>\n",
       "\t<tr><td>1456     </td><td>F        </td><td>42       </td><td>36       </td><td> 3       </td><td>12       </td><td>4.038872 </td><td> 97.268  </td><td>31.814   </td><td> 1       </td><td>⋯        </td><td> 0       </td><td> 0       </td><td> 0       </td><td> 0       </td><td> 1       </td><td> 1       </td><td> 0       </td><td> 0       </td><td> 97.26800</td><td>33.36172 </td></tr>\n",
       "\t<tr><td>1457     </td><td>M        </td><td>42       </td><td>36       </td><td> 3       </td><td>12       </td><td>2.187336 </td><td>100.938  </td><td>38.404   </td><td> 1       </td><td>⋯        </td><td> 1       </td><td> 1       </td><td> 1       </td><td> 1       </td><td> 1       </td><td> 1       </td><td> 0       </td><td> 0       </td><td>103.02302</td><td>41.49944 </td></tr>\n",
       "\t<tr><td>1458     </td><td>F        </td><td>42       </td><td>36       </td><td> 3       </td><td>12       </td><td>2.559654 </td><td> 88.328  </td><td>28.804   </td><td> 0       </td><td>⋯        </td><td>-1       </td><td>-1       </td><td>-1       </td><td>-1       </td><td>-1       </td><td>-1       </td><td>-1       </td><td>-1       </td><td> 86.24298</td><td>25.70856 </td></tr>\n",
       "</tbody>\n",
       "</table>\n"
      ],
      "text/latex": [
       "\\begin{tabular}{r|llllllllllllllllllllllllllllllllllllllllll}\n",
       " ID & Sex & Sire & Dam & LSB & LSW & trait1 & trait2 & trait3 & G1 & ⋯ & G24 & G25 & G26 & G27 & G28 & G29 & G30 & G31 & Trait2a & Trait3a\\\\\n",
       "\\hline\n",
       "\t 55        & M         &  0        & 13        &  9        &  9        & 2.7840078 &  84.136   & 30.702    &  1        & ⋯         &  0        &  0        &  0        &  0        &  0        &  0        &  0        &  0        &  84.13600 & 30.70200 \\\\\n",
       "\t 56        & M         &  0        & 13        &  9        &  9        & 2.9961462 &  91.376   & 37.442    & -1        & ⋯         &  0        &  0        &  0        & -1        & -1        & -1        &  0        &  1        &  89.29098 & 34.34656 \\\\\n",
       "\t 57        & M         &  0        & 13        &  9        &  9        & 4.4964274 &  97.516   & 44.382    &  0        & ⋯         &  0        &  1        &  1        &  1        &  0        &  0        &  0        &  0        &  97.51600 & 44.38200 \\\\\n",
       "\t 58        & F         &  0        & 13        &  9        &  9        & 4.1677393 &  86.236   & 27.362    &  0        & ⋯         & -1        & -1        & -1        & -1        & -1        & -1        & -1        & -1        &  84.15098 & 25.81428 \\\\\n",
       "\t 59        & M         &  0        & 13        &  9        &  9        & 8.3322971 &  90.316   & 47.872    & -1        & ⋯         & -1        & -1        & -1        & -1        & -1        & -1        &  0        &  0        &  88.23098 & 44.77656 \\\\\n",
       "\t 60        & F         &  0        & 13        &  9        &  9        & 6.0586791 &  74.856   & 31.912    &  1        & ⋯         &  0        &  0        &  0        &  0        &  0        &  0        &  0        &  0        &  74.85600 & 31.91200 \\\\\n",
       "\t 61        & F         &  0        & 13        &  9        &  9        & 5.2987302 &  91.926   & 34.582    & -1        & ⋯         & -1        & -1        & -1        & -1        & -1        & -1        & -1        & -1        &  89.84098 & 31.48656 \\\\\n",
       "\t 62        & M         &  0        & 13        &  9        &  9        & 5.0645314 &  95.696   & 45.092    &  1        & ⋯         &  0        &  0        &  0        &  0        & -1        & -1        & -1        & -1        &  95.69600 & 45.09200 \\\\\n",
       "\t 63        & F         &  0        & 13        &  9        &  9        & 4.7603125 &  86.126   & 25.982    &  0        & ⋯         &  0        &  0        &  0        &  0        &  0        &  0        &  0        &  0        &  86.12600 & 25.98200 \\\\\n",
       "\t 64        & F         &  0        & 13        & 11        & 11        & 1.0888584 &  91.126   & 32.162    &  1        & ⋯         &  0        &  0        &  0        &  0        &  0        &  0        &  0        &  0        &  91.12600 & 32.16200 \\\\\n",
       "\t 65        & F         &  0        & 13        & 11        & 11        & 1.1838771 &  97.186   & 28.232    &  0        & ⋯         &  1        &  1        &  0        &  0        &  0        &  0        &  0        &  0        &  97.18600 & 29.77972 \\\\\n",
       "\t 66        & F         &  0        & 13        & 11        & 11        & 0.7492970 &  93.536   & 37.602    &  0        & ⋯         &  1        &  1        &  1        &  1        &  1        &  1        &  1        &  1        &  95.62102 & 40.69744 \\\\\n",
       "\t 67        & F         &  0        & 13        & 11        & 11        & 0.7780688 &  97.186   & 31.422    &  1        & ⋯         &  1        &  1        &  1        &  1        &  1        &  1        &  1        &  1        &  99.27102 & 34.51744 \\\\\n",
       "\t 69        & M         &  0        & 13        & 11        & 11        & 1.6001284 &  97.476   & 36.482    & -1        & ⋯         &  1        &  1        &  1        &  1        &  1        &  1        &  1        &  1        &  97.47600 & 36.48200 \\\\\n",
       "\t 70        & F         &  0        & 13        & 11        & 11        & 1.4331547 &  97.166   & 31.212    &  1        & ⋯         &  0        & -1        & -1        & -1        & -1        & -1        & -1        & -1        &  99.25102 & 34.30744 \\\\\n",
       "\t 71        & M         &  0        & 13        & 11        & 11        & 3.8746510 & 100.406   & 41.802    &  0        & ⋯         &  0        &  0        &  0        &  0        &  0        &  0        &  0        &  0        & 100.40600 & 41.80200 \\\\\n",
       "\t 72        & M         &  0        & 13        & 11        & 11        & 2.9011491 &  90.076   & 35.232    &  0        & ⋯         & -1        & -1        & -1        & -1        & -1        & -1        & -1        & -1        &  90.07600 & 33.68428 \\\\\n",
       "\t 73        & M         &  0        & 13        & 11        & 11        & 3.0200725 &  98.550   & 41.972    &  0        & ⋯         &  0        &  0        &  0        &  0        &  0        &  0        &  1        &  1        & 100.63502 & 43.51972 \\\\\n",
       "\t 74        & M         &  0        & 13        & 11        & 11        & 2.2471589 & 103.306   & 39.032    & -1        & ⋯         &  0        &  0        &  0        &  0        &  0        &  0        &  0        &  0        & 103.30600 & 37.48428 \\\\\n",
       "\t 82        & M         & 15        & 10        &  9        &  2        & 4.3885895 &  88.168   & 39.690    &  0        & ⋯         &  0        &  0        &  0        &  0        &  0        &  0        &  0        &  0        &  88.16800 & 41.23772 \\\\\n",
       "\t 83        & M         & 15        & 10        &  9        &  2        & 4.5828357 &  93.558   & 46.960    &  0        & ⋯         &  0        &  0        &  0        &  0        &  0        &  0        &  0        &  0        &  95.64302 & 50.05544 \\\\\n",
       "\t 84        & M         & 16        & 12        &  7        &  5        & 5.2427527 &  86.053   & 43.940    & -1        & ⋯         & -1        & -1        & -1        & -1        & -1        & -1        & -1        & -1        &  83.96798 & 40.84456 \\\\\n",
       "\t 85        & M         & 16        & 12        &  7        &  5        & 1.6977471 &  83.253   & 33.890    &  0        & ⋯         &  0        &  0        &  0        &  0        &  0        &  0        &  0        &  0        &  83.25300 & 33.89000 \\\\\n",
       "\t 86        & M         & 16        & 12        &  7        &  5        & 7.2132029 &  96.193   & 47.840    &  1        & ⋯         &  0        &  0        &  0        &  0        &  0        &  0        &  0        &  0        &  96.19300 & 47.84000 \\\\\n",
       "\t 87        & M         & 16        & 12        &  7        &  5        & 1.7171386 &  86.183   & 34.860    &  0        & ⋯         &  0        &  0        &  0        &  0        &  0        &  0        &  1        &  1        &  86.18300 & 34.86000 \\\\\n",
       "\t 90        & M         & 16        & 12        &  7        &  5        & 5.2721871 &  92.243   & 47.600    &  1        & ⋯         &  0        &  0        &  0        & -1        & -1        & -1        & -1        & -1        &  92.24300 & 47.60000 \\\\\n",
       "\t 91        & F         &  4        & 17        & 12        & 12        & 2.0840940 &  77.051   & 30.942    &  0        & ⋯         &  1        &  1        &  1        &  1        &  1        &  1        &  1        &  1        &  79.13602 & 32.48972 \\\\\n",
       "\t 92        & M         &  4        & 17        & 12        & 12        & 2.4946120 &  92.851   & 30.812    &  0        & ⋯         &  1        &  1        &  1        &  1        &  1        &  1        &  1        &  1        &  94.93602 & 33.90744 \\\\\n",
       "\t 93        & M         &  4        & 17        & 12        & 12        & 3.6485070 &  97.441   & 40.372    &  0        & ⋯         &  0        &  0        &  0        &  0        &  0        &  0        &  0        &  0        &  97.44100 & 40.37200 \\\\\n",
       "\t 94        & M         &  4        & 17        & 12        & 12        & 5.6060066 &  84.361   & 46.422    &  0        & ⋯         &  0        &  0        &  0        & -1        & -1        & -1        & -1        & -1        &  84.36100 & 46.42200 \\\\\n",
       "\t ⋮ & ⋮ & ⋮ & ⋮ & ⋮ & ⋮ & ⋮ & ⋮ & ⋮ & ⋮ & ⋱ & ⋮ & ⋮ & ⋮ & ⋮ & ⋮ & ⋮ & ⋮ & ⋮ & ⋮ & ⋮\\\\\n",
       "\t 1193      & F         & 45        & 35        &  5        & 12        & 2.240721  &  94.663   & 25.160    &  0        & ⋯         &  1        &  0        &  0        &  0        &  0        &  0        &  0        &  0        &  96.74802 & 28.25544 \\\\\n",
       "\t 1194      & M         & 45        & 35        &  5        & 12        & 2.730726  &  97.223   & 40.190    & -1        & ⋯         &  1        &  0        &  0        &  0        &  0        &  0        &  0        &  0        &  99.30802 & 41.73772 \\\\\n",
       "\t 1295      & M         & 42        & 36        &  4        &  8        & 4.839992  &  94.128   & 44.674    & -1        & ⋯         &  1        &  1        &  0        &  0        &  0        &  0        &  0        &  0        &  94.12800 & 44.67400 \\\\\n",
       "\t 1296      & F         & 42        & 36        &  4        &  8        & 2.208632  &  93.078   & 28.184    & -1        & ⋯         &  0        &  0        &  0        &  1        &  1        &  1        &  1        &  0        &  93.07800 & 25.08856 \\\\\n",
       "\t 1297      & M         & 42        & 36        &  4        &  8        & 3.000926  &  96.698   & 44.394    &  0        & ⋯         &  1        &  0        &  0        &  0        &  0        &  0        &  0        &  0        &  98.78302 & 47.48944 \\\\\n",
       "\t 1298      & F         & 42        & 36        &  4        &  8        & 2.381743  &  92.958   & 26.764    & -1        & ⋯         &  1        &  1        &  1        &  1        &  1        &  1        &  1        &  0        &  90.87298 & 25.21628 \\\\\n",
       "\t 1299      & F         & 41        &  9        &  4        &  8        & 1.460508  &  90.350   & 25.972    & -1        & ⋯         &  0        &  0        &  0        &  1        &  1        &  1        &  1        &  0        &  88.26498 & 24.42428 \\\\\n",
       "\t 1300      & F         & 41        &  9        &  4        &  8        & 1.686151  &  86.210   & 27.102    & -1        & ⋯         &  1        &  1        &  1        &  1        &  1        &  1        &  1        &  0        &  86.21000 & 27.10200 \\\\\n",
       "\t 1301      & F         & 41        &  9        &  4        &  8        & 2.936640  &  97.250   & 38.302    &  0        & ⋯         &  1        &  0        &  0        &  0        &  0        &  0        &  0        &  0        &  99.33502 & 39.84972 \\\\\n",
       "\t 1302      & M         & 41        &  9        &  4        &  8        & 1.764011  &  90.584   & 34.292    &  1        & ⋯         &  1        &  1        &  1        &  1        &  1        &  1        &  1        &  1        &  92.66902 & 37.38744 \\\\\n",
       "\t 1437      & F         & 41        &  9        &  6        & 10        & 2.521450  &  86.280   & 29.212    &  0        & ⋯         &  0        &  0        &  0        &  0        &  0        &  0        &  0        &  0        &  86.28000 & 29.21200 \\\\\n",
       "\t 1438      & F         & 41        &  9        &  6        & 10        & 2.589012  &  98.960   & 32.812    &  0        & ⋯         &  1        &  1        &  0        &  0        &  0        &  0        &  0        &  0        & 101.04502 & 35.90744 \\\\\n",
       "\t 1439      & F         & 41        &  9        &  6        & 10        & 3.250871  &  89.600   & 31.602    &  1        & ⋯         &  1        &  1        &  1        &  1        &  1        &  1        &  1        &  1        &  89.60000 & 33.14972 \\\\\n",
       "\t 1440      & M         & 41        &  9        &  6        & 10        & 2.589012  &  96.320   & 40.652    &  0        & ⋯         &  1        &  1        &  0        &  0        &  0        &  0        &  0        &  0        &  96.32000 & 42.19972 \\\\\n",
       "\t 1441      & M         & 41        &  9        &  6        & 10        & 3.177307  &  97.050   & 39.212    &  1        & ⋯         &  1        &  1        &  0        &  0        &  0        &  0        & -1        & -1        &  99.13502 & 42.30744 \\\\\n",
       "\t 1442      & F         & 41        &  9        &  6        & 10        & 2.344552  &  85.050   & 31.082    & -1        & ⋯         &  1        &  1        &  0        &  0        &  0        &  0        &  0        &  0        &  85.05000 & 32.62972 \\\\\n",
       "\t 1443      & M         & 31        &  6        & 13        & 10        & 6.239614  &  97.306   & 46.882    &  1        & ⋯         &  1        &  1        &  0        &  0        &  0        &  0        &  0        &  0        &  99.39102 & 49.97744 \\\\\n",
       "\t 1445      & M         & 31        &  6        & 13        & 10        & 6.145780  &  97.196   & 47.312    &  0        & ⋯         &  0        &  0        &  0        &  0        &  0        &  0        &  0        &  0        &  97.19600 & 47.31200 \\\\\n",
       "\t 1446      & M         & 31        &  6        & 13        & 10        & 4.465913  &  98.426   & 43.812    &  1        & ⋯         &  0        &  0        &  1        &  0        &  0        &  0        & -1        & -1        &  98.42600 & 45.35972 \\\\\n",
       "\t 1447      & F         & 31        &  6        & 13        & 12        & 2.712283  &  82.736   & 26.992    &  0        & ⋯         &  0        &  0        &  0        & -1        & -1        & -1        & -1        & -1        &  82.73600 & 26.99200 \\\\\n",
       "\t 1448      & M         & 31        &  6        & 13        & 12        & 2.309748  & 100.126   & 40.762    &  0        & ⋯         &  0        &  0        &  0        &  0        &  0        &  0        &  0        &  0        & 100.12600 & 40.76200 \\\\\n",
       "\t 1449      & F         & 31        &  6        & 13        & 12        & 3.089857  & 104.106   & 30.632    &  1        & ⋯         &  0        &  0        &  0        &  0        &  0        &  0        &  0        &  0        & 104.10600 & 32.17972 \\\\\n",
       "\t 1451      & M         & 31        &  6        & 13        & 12        & 5.148974  &  88.666   & 40.412    &  1        & ⋯         &  1        &  0        &  0        &  1        &  1        &  1        &  0        &  0        &  90.75102 & 43.50744 \\\\\n",
       "\t 1452      & M         & 31        &  6        & 13        & 12        & 3.359891  & 106.176   & 44.112    &  1        & ⋯         &  1        &  1        &  1        &  1        &  1        &  1        &  0        &  0        & 108.26102 & 47.20744 \\\\\n",
       "\t 1453      & F         & 31        &  6        & 13        & 12        & 1.523216  &  87.186   & 27.452    &  1        & ⋯         &  1        &  1        &  1        &  1        &  1        &  1        &  1        &  1        &  89.27102 & 30.54744 \\\\\n",
       "\t 1454      & M         & 31        &  6        & 13        & 12        & 4.689586  &  94.156   & 41.692    &  0        & ⋯         &  0        &  0        &  0        &  0        & -1        & -1        & -1        & -1        &  92.07098 & 38.59656 \\\\\n",
       "\t 1455      & F         & 31        &  6        & 13        & 12        & 2.159765  &  88.106   & 32.652    &  1        & ⋯         &  0        &  1        &  1        &  1        &  1        &  1        &  0        &  0        &  88.10600 & 34.19972 \\\\\n",
       "\t 1456      & F         & 42        & 36        &  3        & 12        & 4.038872  &  97.268   & 31.814    &  1        & ⋯         &  0        &  0        &  0        &  0        &  1        &  1        &  0        &  0        &  97.26800 & 33.36172 \\\\\n",
       "\t 1457      & M         & 42        & 36        &  3        & 12        & 2.187336  & 100.938   & 38.404    &  1        & ⋯         &  1        &  1        &  1        &  1        &  1        &  1        &  0        &  0        & 103.02302 & 41.49944 \\\\\n",
       "\t 1458      & F         & 42        & 36        &  3        & 12        & 2.559654  &  88.328   & 28.804    &  0        & ⋯         & -1        & -1        & -1        & -1        & -1        & -1        & -1        & -1        &  86.24298 & 25.70856 \\\\\n",
       "\\end{tabular}\n"
      ],
      "text/plain": [
       "    ID   Sex Sire Dam LSB LSW trait1    trait2  trait3 G1 ⋯ G24 G25 G26 G27 G28\n",
       "1   55   M    0   13   9   9  2.7840078  84.136 30.702  1 ⋯  0   0   0   0   0 \n",
       "2   56   M    0   13   9   9  2.9961462  91.376 37.442 -1 ⋯  0   0   0  -1  -1 \n",
       "3   57   M    0   13   9   9  4.4964274  97.516 44.382  0 ⋯  0   1   1   1   0 \n",
       "4   58   F    0   13   9   9  4.1677393  86.236 27.362  0 ⋯ -1  -1  -1  -1  -1 \n",
       "5   59   M    0   13   9   9  8.3322971  90.316 47.872 -1 ⋯ -1  -1  -1  -1  -1 \n",
       "6   60   F    0   13   9   9  6.0586791  74.856 31.912  1 ⋯  0   0   0   0   0 \n",
       "7   61   F    0   13   9   9  5.2987302  91.926 34.582 -1 ⋯ -1  -1  -1  -1  -1 \n",
       "8   62   M    0   13   9   9  5.0645314  95.696 45.092  1 ⋯  0   0   0   0  -1 \n",
       "9   63   F    0   13   9   9  4.7603125  86.126 25.982  0 ⋯  0   0   0   0   0 \n",
       "10  64   F    0   13  11  11  1.0888584  91.126 32.162  1 ⋯  0   0   0   0   0 \n",
       "11  65   F    0   13  11  11  1.1838771  97.186 28.232  0 ⋯  1   1   0   0   0 \n",
       "12  66   F    0   13  11  11  0.7492970  93.536 37.602  0 ⋯  1   1   1   1   1 \n",
       "13  67   F    0   13  11  11  0.7780688  97.186 31.422  1 ⋯  1   1   1   1   1 \n",
       "14  69   M    0   13  11  11  1.6001284  97.476 36.482 -1 ⋯  1   1   1   1   1 \n",
       "15  70   F    0   13  11  11  1.4331547  97.166 31.212  1 ⋯  0  -1  -1  -1  -1 \n",
       "16  71   M    0   13  11  11  3.8746510 100.406 41.802  0 ⋯  0   0   0   0   0 \n",
       "17  72   M    0   13  11  11  2.9011491  90.076 35.232  0 ⋯ -1  -1  -1  -1  -1 \n",
       "18  73   M    0   13  11  11  3.0200725  98.550 41.972  0 ⋯  0   0   0   0   0 \n",
       "19  74   M    0   13  11  11  2.2471589 103.306 39.032 -1 ⋯  0   0   0   0   0 \n",
       "20  82   M   15   10   9   2  4.3885895  88.168 39.690  0 ⋯  0   0   0   0   0 \n",
       "21  83   M   15   10   9   2  4.5828357  93.558 46.960  0 ⋯  0   0   0   0   0 \n",
       "22  84   M   16   12   7   5  5.2427527  86.053 43.940 -1 ⋯ -1  -1  -1  -1  -1 \n",
       "23  85   M   16   12   7   5  1.6977471  83.253 33.890  0 ⋯  0   0   0   0   0 \n",
       "24  86   M   16   12   7   5  7.2132029  96.193 47.840  1 ⋯  0   0   0   0   0 \n",
       "25  87   M   16   12   7   5  1.7171386  86.183 34.860  0 ⋯  0   0   0   0   0 \n",
       "26  90   M   16   12   7   5  5.2721871  92.243 47.600  1 ⋯  0   0   0  -1  -1 \n",
       "27  91   F    4   17  12  12  2.0840940  77.051 30.942  0 ⋯  1   1   1   1   1 \n",
       "28  92   M    4   17  12  12  2.4946120  92.851 30.812  0 ⋯  1   1   1   1   1 \n",
       "29  93   M    4   17  12  12  3.6485070  97.441 40.372  0 ⋯  0   0   0   0   0 \n",
       "30  94   M    4   17  12  12  5.6060066  84.361 46.422  0 ⋯  0   0   0  -1  -1 \n",
       "⋮   ⋮    ⋮   ⋮    ⋮   ⋮   ⋮   ⋮         ⋮       ⋮      ⋮  ⋱ ⋮   ⋮   ⋮   ⋮   ⋮  \n",
       "476 1193 F   45   35   5  12  2.240721   94.663 25.160  0 ⋯  1   0   0   0   0 \n",
       "477 1194 M   45   35   5  12  2.730726   97.223 40.190 -1 ⋯  1   0   0   0   0 \n",
       "478 1295 M   42   36   4   8  4.839992   94.128 44.674 -1 ⋯  1   1   0   0   0 \n",
       "479 1296 F   42   36   4   8  2.208632   93.078 28.184 -1 ⋯  0   0   0   1   1 \n",
       "480 1297 M   42   36   4   8  3.000926   96.698 44.394  0 ⋯  1   0   0   0   0 \n",
       "481 1298 F   42   36   4   8  2.381743   92.958 26.764 -1 ⋯  1   1   1   1   1 \n",
       "482 1299 F   41    9   4   8  1.460508   90.350 25.972 -1 ⋯  0   0   0   1   1 \n",
       "483 1300 F   41    9   4   8  1.686151   86.210 27.102 -1 ⋯  1   1   1   1   1 \n",
       "484 1301 F   41    9   4   8  2.936640   97.250 38.302  0 ⋯  1   0   0   0   0 \n",
       "485 1302 M   41    9   4   8  1.764011   90.584 34.292  1 ⋯  1   1   1   1   1 \n",
       "486 1437 F   41    9   6  10  2.521450   86.280 29.212  0 ⋯  0   0   0   0   0 \n",
       "487 1438 F   41    9   6  10  2.589012   98.960 32.812  0 ⋯  1   1   0   0   0 \n",
       "488 1439 F   41    9   6  10  3.250871   89.600 31.602  1 ⋯  1   1   1   1   1 \n",
       "489 1440 M   41    9   6  10  2.589012   96.320 40.652  0 ⋯  1   1   0   0   0 \n",
       "490 1441 M   41    9   6  10  3.177307   97.050 39.212  1 ⋯  1   1   0   0   0 \n",
       "491 1442 F   41    9   6  10  2.344552   85.050 31.082 -1 ⋯  1   1   0   0   0 \n",
       "492 1443 M   31    6  13  10  6.239614   97.306 46.882  1 ⋯  1   1   0   0   0 \n",
       "493 1445 M   31    6  13  10  6.145780   97.196 47.312  0 ⋯  0   0   0   0   0 \n",
       "494 1446 M   31    6  13  10  4.465913   98.426 43.812  1 ⋯  0   0   1   0   0 \n",
       "495 1447 F   31    6  13  12  2.712283   82.736 26.992  0 ⋯  0   0   0  -1  -1 \n",
       "496 1448 M   31    6  13  12  2.309748  100.126 40.762  0 ⋯  0   0   0   0   0 \n",
       "497 1449 F   31    6  13  12  3.089857  104.106 30.632  1 ⋯  0   0   0   0   0 \n",
       "498 1451 M   31    6  13  12  5.148974   88.666 40.412  1 ⋯  1   0   0   1   1 \n",
       "499 1452 M   31    6  13  12  3.359891  106.176 44.112  1 ⋯  1   1   1   1   1 \n",
       "500 1453 F   31    6  13  12  1.523216   87.186 27.452  1 ⋯  1   1   1   1   1 \n",
       "501 1454 M   31    6  13  12  4.689586   94.156 41.692  0 ⋯  0   0   0   0  -1 \n",
       "502 1455 F   31    6  13  12  2.159765   88.106 32.652  1 ⋯  0   1   1   1   1 \n",
       "503 1456 F   42   36   3  12  4.038872   97.268 31.814  1 ⋯  0   0   0   0   1 \n",
       "504 1457 M   42   36   3  12  2.187336  100.938 38.404  1 ⋯  1   1   1   1   1 \n",
       "505 1458 F   42   36   3  12  2.559654   88.328 28.804  0 ⋯ -1  -1  -1  -1  -1 \n",
       "    G29 G30 G31 Trait2a   Trait3a \n",
       "1    0   0   0   84.13600 30.70200\n",
       "2   -1   0   1   89.29098 34.34656\n",
       "3    0   0   0   97.51600 44.38200\n",
       "4   -1  -1  -1   84.15098 25.81428\n",
       "5   -1   0   0   88.23098 44.77656\n",
       "6    0   0   0   74.85600 31.91200\n",
       "7   -1  -1  -1   89.84098 31.48656\n",
       "8   -1  -1  -1   95.69600 45.09200\n",
       "9    0   0   0   86.12600 25.98200\n",
       "10   0   0   0   91.12600 32.16200\n",
       "11   0   0   0   97.18600 29.77972\n",
       "12   1   1   1   95.62102 40.69744\n",
       "13   1   1   1   99.27102 34.51744\n",
       "14   1   1   1   97.47600 36.48200\n",
       "15  -1  -1  -1   99.25102 34.30744\n",
       "16   0   0   0  100.40600 41.80200\n",
       "17  -1  -1  -1   90.07600 33.68428\n",
       "18   0   1   1  100.63502 43.51972\n",
       "19   0   0   0  103.30600 37.48428\n",
       "20   0   0   0   88.16800 41.23772\n",
       "21   0   0   0   95.64302 50.05544\n",
       "22  -1  -1  -1   83.96798 40.84456\n",
       "23   0   0   0   83.25300 33.89000\n",
       "24   0   0   0   96.19300 47.84000\n",
       "25   0   1   1   86.18300 34.86000\n",
       "26  -1  -1  -1   92.24300 47.60000\n",
       "27   1   1   1   79.13602 32.48972\n",
       "28   1   1   1   94.93602 33.90744\n",
       "29   0   0   0   97.44100 40.37200\n",
       "30  -1  -1  -1   84.36100 46.42200\n",
       "⋮   ⋮   ⋮   ⋮   ⋮         ⋮       \n",
       "476  0   0   0   96.74802 28.25544\n",
       "477  0   0   0   99.30802 41.73772\n",
       "478  0   0   0   94.12800 44.67400\n",
       "479  1   1   0   93.07800 25.08856\n",
       "480  0   0   0   98.78302 47.48944\n",
       "481  1   1   0   90.87298 25.21628\n",
       "482  1   1   0   88.26498 24.42428\n",
       "483  1   1   0   86.21000 27.10200\n",
       "484  0   0   0   99.33502 39.84972\n",
       "485  1   1   1   92.66902 37.38744\n",
       "486  0   0   0   86.28000 29.21200\n",
       "487  0   0   0  101.04502 35.90744\n",
       "488  1   1   1   89.60000 33.14972\n",
       "489  0   0   0   96.32000 42.19972\n",
       "490  0  -1  -1   99.13502 42.30744\n",
       "491  0   0   0   85.05000 32.62972\n",
       "492  0   0   0   99.39102 49.97744\n",
       "493  0   0   0   97.19600 47.31200\n",
       "494  0  -1  -1   98.42600 45.35972\n",
       "495 -1  -1  -1   82.73600 26.99200\n",
       "496  0   0   0  100.12600 40.76200\n",
       "497  0   0   0  104.10600 32.17972\n",
       "498  1   0   0   90.75102 43.50744\n",
       "499  1   0   0  108.26102 47.20744\n",
       "500  1   1   1   89.27102 30.54744\n",
       "501 -1  -1  -1   92.07098 38.59656\n",
       "502  1   0   0   88.10600 34.19972\n",
       "503  1   0   0   97.26800 33.36172\n",
       "504  1   0   0  103.02302 41.49944\n",
       "505 -1  -1  -1   86.24298 25.70856"
      ]
     },
     "metadata": {},
     "output_type": "display_data"
    }
   ],
   "source": [
    "f2_data = read_csv(\"./F2 geno pheno with QTL effect.csv\")\n",
    "f2_data"
   ]
  },
  {
   "cell_type": "code",
   "execution_count": 3,
   "metadata": {
    "collapsed": false
   },
   "outputs": [
    {
     "data": {},
     "metadata": {},
     "output_type": "display_data"
    },
    {
     "data": {
      "image/png": "[encoded data removed]",
      "text/plain": [
       "plot without title"
      ]
     },
     "metadata": {},
     "output_type": "display_data"
    }
   ],
   "source": [
    "f2_data %>% \n",
    "    gather(trait, value, Trait2a:Trait3a) %>%\n",
    "    ggplot(aes(trait, value)) + geom_violin() + geom_jitter(width = 0.1, alpha = 0.1)"
   ]
  },
  {
   "cell_type": "markdown",
   "metadata": {},
   "source": [
    "# Simple single marker models"
   ]
  },
  {
   "cell_type": "markdown",
   "metadata": {},
   "source": [
    "## Anova model"
   ]
  },
  {
   "cell_type": "markdown",
   "metadata": {},
   "source": [
    "The most simple way of mapping a quantitative trait locus is using an Anova. We divide a particular marker position into 3 classes (homozigotes and the heterozigotes) and look for diferences among the classes. Later we'll see how to dissect this further. This model is comparing the different genotypes states of the G16 marker with respect to the Trait2a phenotype. We are also controling for differences in Sex, litter size at birth (LSB) and litter size at weaning (LSW).\n",
    "\n",
    "![](f2popQtl.png)\n",
    "\n",
    "The lm() function in R can be used for this test."
   ]
  },
  {
   "cell_type": "code",
   "execution_count": 4,
   "metadata": {
    "collapsed": false
   },
   "outputs": [
    {
     "data": {
      "text/html": [
       "<table>\n",
       "<thead><tr><th></th><th scope=col>Sum Sq</th><th scope=col>Df</th><th scope=col>F value</th><th scope=col>Pr(&gt;F)</th></tr></thead>\n",
       "<tbody>\n",
       "\t<tr><th scope=row>Sex</th><td> 1404.73117 </td><td>  1         </td><td>36.4635275  </td><td>3.064203e-09</td></tr>\n",
       "\t<tr><th scope=row>LSB</th><td>   20.72801 </td><td>  1         </td><td> 0.5380504  </td><td>4.635905e-01</td></tr>\n",
       "\t<tr><th scope=row>LSW</th><td>  126.60330 </td><td>  1         </td><td> 3.2863248  </td><td>7.046730e-02</td></tr>\n",
       "\t<tr><th scope=row>as.factor(G16)</th><td> 1828.64853 </td><td>  2         </td><td>23.7337140  </td><td>1.442373e-10</td></tr>\n",
       "\t<tr><th scope=row>Residuals</th><td>18992.47044 </td><td>493         </td><td>        NA  </td><td>          NA</td></tr>\n",
       "</tbody>\n",
       "</table>\n"
      ],
      "text/latex": [
       "\\begin{tabular}{r|llll}\n",
       "  & Sum Sq & Df & F value & Pr(>F)\\\\\n",
       "\\hline\n",
       "\tSex &  1404.73117  &   1          & 36.4635275   & 3.064203e-09\\\\\n",
       "\tLSB &    20.72801  &   1          &  0.5380504   & 4.635905e-01\\\\\n",
       "\tLSW &   126.60330  &   1          &  3.2863248   & 7.046730e-02\\\\\n",
       "\tas.factor(G16) &  1828.64853  &   2          & 23.7337140   & 1.442373e-10\\\\\n",
       "\tResiduals & 18992.47044  & 493          &         NA   &           NA\\\\\n",
       "\\end{tabular}\n"
      ],
      "text/plain": [
       "               Sum Sq      Df  F value    Pr(>F)      \n",
       "Sex             1404.73117   1 36.4635275 3.064203e-09\n",
       "LSB               20.72801   1  0.5380504 4.635905e-01\n",
       "LSW              126.60330   1  3.2863248 7.046730e-02\n",
       "as.factor(G16)  1828.64853   2 23.7337140 1.442373e-10\n",
       "Residuals      18992.47044 493         NA           NA"
      ]
     },
     "metadata": {},
     "output_type": "display_data"
    }
   ],
   "source": [
    "anova_fit_f2_marker_16 = lm(Trait2a ~ Sex + LSB + LSW + as.factor(G16), data = f2_data)\n",
    "Anova(anova_fit_f2_marker_16)"
   ]
  },
  {
   "cell_type": "markdown",
   "metadata": {},
   "source": [
    "## Regression models"
   ]
  },
  {
   "cell_type": "markdown",
   "metadata": {},
   "source": [
    "Another way of doing this is using a regression model, in which we code the different genotypes numericaly (-1 for one homozygote, 0 for the heterozygotes, and +1 for the other homozygote). The coeficient associated with this encoding is related to the additive effect of the marker. "
   ]
  },
  {
   "cell_type": "code",
   "execution_count": 5,
   "metadata": {
    "collapsed": false,
    "scrolled": true
   },
   "outputs": [
    {
     "data": {
      "text/plain": [
       "\n",
       "Call:\n",
       "lm(formula = Trait2a ~ Sex + LSB + LSW + G16, data = f2_data)\n",
       "\n",
       "Residuals:\n",
       "    Min      1Q  Median      3Q     Max \n",
       "-63.087  -3.458   0.326   3.887  22.483 \n",
       "\n",
       "Coefficients:\n",
       "            Estimate Std. Error t value Pr(>|t|)    \n",
       "(Intercept)  87.7976     1.6781  52.321  < 2e-16 ***\n",
       "SexM          3.4304     0.5626   6.098 2.17e-09 ***\n",
       "LSB          -0.1291     0.1890  -0.683   0.4948    \n",
       "LSW           0.3948     0.2228   1.772   0.0771 .  \n",
       "G16           2.7424     0.4049   6.773 3.59e-11 ***\n",
       "---\n",
       "Signif. codes:  0 ‘***’ 0.001 ‘**’ 0.01 ‘*’ 0.05 ‘.’ 0.1 ‘ ’ 1\n",
       "\n",
       "Residual standard error: 6.21 on 494 degrees of freedom\n",
       "  (6 observations deleted due to missingness)\n",
       "Multiple R-squared:  0.1471,\tAdjusted R-squared:  0.1402 \n",
       "F-statistic:  21.3 on 4 and 494 DF,  p-value: 3.169e-16\n"
      ]
     },
     "metadata": {},
     "output_type": "display_data"
    }
   ],
   "source": [
    "reg_fit_f2_marker_16_A = lm(Trait2a ~ Sex + LSB + LSW + G16, data = f2_data)\n",
    "summary(reg_fit_f2_marker_16_A)"
   ]
  },
  {
   "cell_type": "markdown",
   "metadata": {},
   "source": [
    "We can also use a coding of 1 for the heterozygotes and 0 for the homozygotes to extract a coeficient related to the dominance effect of the marker."
   ]
  },
  {
   "cell_type": "code",
   "execution_count": 6,
   "metadata": {
    "collapsed": false
   },
   "outputs": [
    {
     "data": {
      "text/plain": [
       "\n",
       "Call:\n",
       "lm(formula = Trait2a ~ Sex + LSB + LSW + G16 + G16_D, data = f2_data)\n",
       "\n",
       "Residuals:\n",
       "    Min      1Q  Median      3Q     Max \n",
       "-63.397  -3.424   0.465   3.742  22.142 \n",
       "\n",
       "Coefficients:\n",
       "            Estimate Std. Error t value Pr(>|t|)    \n",
       "(Intercept)  87.4519     1.7001  51.438  < 2e-16 ***\n",
       "SexM          3.3987     0.5628   6.039 3.06e-09 ***\n",
       "LSB          -0.1387     0.1890  -0.734   0.4636    \n",
       "LSW           0.4040     0.2228   1.813   0.0705 .  \n",
       "G16           2.7634     0.4050   6.823 2.62e-11 ***\n",
       "G16_D         0.6923     0.5582   1.240   0.2154    \n",
       "---\n",
       "Signif. codes:  0 ‘***’ 0.001 ‘**’ 0.01 ‘*’ 0.05 ‘.’ 0.1 ‘ ’ 1\n",
       "\n",
       "Residual standard error: 6.207 on 493 degrees of freedom\n",
       "  (6 observations deleted due to missingness)\n",
       "Multiple R-squared:  0.1498,\tAdjusted R-squared:  0.1412 \n",
       "F-statistic: 17.37 on 5 and 493 DF,  p-value: 7.503e-16\n"
      ]
     },
     "metadata": {},
     "output_type": "display_data"
    }
   ],
   "source": [
    "f2_data$G16_D = ifelse(f2_data$G16, 0, 1)\n",
    "reg_fit_f2_marker_16_AD = lm(Trait2a ~ Sex + LSB + LSW + G16 + G16_D, data = f2_data)\n",
    "summary(reg_fit_f2_marker_16_AD)"
   ]
  },
  {
   "cell_type": "markdown",
   "metadata": {},
   "source": [
    "# Mapping loci"
   ]
  },
  {
   "cell_type": "markdown",
   "metadata": {},
   "source": [
    "If we have a set of markers we can run a series of single markers models along the chromossome to locate the position of the QTL in that cromossome. Let's create dominance collumns and run the regression models for each marker"
   ]
  },
  {
   "cell_type": "code",
   "execution_count": 7,
   "metadata": {
    "collapsed": false
   },
   "outputs": [],
   "source": [
    "n_markers = 31\n",
    "marker_fits = list()\n",
    "for(i in seq(n_markers)){\n",
    "    current_marker = paste0('G', i)\n",
    "    f2_data[[paste0(current_marker, '_D')]] = ifelse(f2_data[[current_marker]], 0, 1)\n",
    "    model_formula = paste0(\"Trait2a ~ Sex + LSB + LSW + \", current_marker, \"+\", current_marker, \"_D\")\n",
    "    marker_fits[[i]] = lm(as.formula(model_formula), data = f2_data)\n",
    "}"
   ]
  },
  {
   "cell_type": "markdown",
   "metadata": {},
   "source": [
    "Let's look at one of the model fits to see if everything is ok"
   ]
  },
  {
   "cell_type": "code",
   "execution_count": 8,
   "metadata": {
    "collapsed": false
   },
   "outputs": [
    {
     "data": {
      "text/plain": [
       "\n",
       "Call:\n",
       "lm(formula = as.formula(model_formula), data = f2_data)\n",
       "\n",
       "Residuals:\n",
       "    Min      1Q  Median      3Q     Max \n",
       "-62.931  -3.663   0.441   4.088  23.045 \n",
       "\n",
       "Coefficients:\n",
       "            Estimate Std. Error t value Pr(>|t|)    \n",
       "(Intercept)  88.0207     1.7837  49.348  < 2e-16 ***\n",
       "SexM          3.4777     0.5852   5.942 5.32e-09 ***\n",
       "LSB          -0.1831     0.1965  -0.932   0.3518    \n",
       "LSW           0.4633     0.2317   2.000   0.0460 *  \n",
       "G3            0.9892     0.4164   2.376   0.0179 *  \n",
       "G3_D         -0.6157     0.5789  -1.064   0.2880    \n",
       "---\n",
       "Signif. codes:  0 ‘***’ 0.001 ‘**’ 0.01 ‘*’ 0.05 ‘.’ 0.1 ‘ ’ 1\n",
       "\n",
       "Residual standard error: 6.455 on 493 degrees of freedom\n",
       "  (6 observations deleted due to missingness)\n",
       "Multiple R-squared:  0.08042,\tAdjusted R-squared:  0.0711 \n",
       "F-statistic: 8.623 on 5 and 493 DF,  p-value: 7.578e-08\n"
      ]
     },
     "metadata": {},
     "output_type": "display_data"
    }
   ],
   "source": [
    "summary(marker_fits[[3]])"
   ]
  },
  {
   "cell_type": "markdown",
   "metadata": {},
   "source": [
    "We can use this set of fits to see how the log significance changes along the cromossome"
   ]
  },
  {
   "cell_type": "code",
   "execution_count": 9,
   "metadata": {
    "collapsed": false
   },
   "outputs": [
    {
     "data": {},
     "metadata": {},
     "output_type": "display_data"
    },
    {
     "data": {
      "image/png": "[encoded data removed]",
      "text/plain": [
       "plot without title"
      ]
     },
     "metadata": {},
     "output_type": "display_data"
    }
   ],
   "source": [
    "ldply(marker_fits, function(x) summary(x)$coefficients[5, 'Pr(>|t|)']) %>%\n",
    "    ggplot(aes(1:n_markers, -log(V1))) + geom_line() + labs(x = \"marker\", y = \"LPR - probably wrong\") +\n",
    "        scale_x_continuous(breaks = seq(1, n_markers, by = 2))"
   ]
  },
  {
   "cell_type": "markdown",
   "metadata": {},
   "source": [
    "## More than one effect"
   ]
  },
  {
   "cell_type": "code",
   "execution_count": 10,
   "metadata": {
    "collapsed": true
   },
   "outputs": [],
   "source": [
    "marker_fits_Trait3a = list()\n",
    "for(i in seq(n_markers)){\n",
    "    current_marker = paste0('G', i)\n",
    "    model_formula = paste0(\"Trait3a ~ Sex + LSB + LSW + \", current_marker, \"+\", current_marker, \"_D\")\n",
    "    marker_fits_Trait3a[[i]] = lm(as.formula(model_formula), data = f2_data)\n",
    "}"
   ]
  },
  {
   "cell_type": "code",
   "execution_count": 11,
   "metadata": {
    "collapsed": false
   },
   "outputs": [
    {
     "data": {},
     "metadata": {},
     "output_type": "display_data"
    },
    {
     "data": {
      "image/png": "[encoded data removed]",
      "text/plain": [
       "plot without title"
      ]
     },
     "metadata": {},
     "output_type": "display_data"
    }
   ],
   "source": [
    "ldply(marker_fits_Trait3a, function(x) summary(x)$coefficients[5, 'Pr(>|t|)']) %>%\n",
    "    ggplot(aes(1:n_markers, -log(V1))) + geom_line() + labs(x = \"marker\", y = \"LPR - probably wrong\") +\n",
    "        scale_x_continuous(breaks = seq(1, n_markers, by = 2))"
   ]
  },
  {
   "cell_type": "markdown",
   "metadata": {},
   "source": [
    "## Including more than one marker in a model"
   ]
  },
  {
   "cell_type": "markdown",
   "metadata": {},
   "source": [
    "We can take LD into account in the mapping by including flanking markers. This provides more localised estimates of the QTLs."
   ]
  },
  {
   "cell_type": "code",
   "execution_count": 12,
   "metadata": {
    "collapsed": false,
    "scrolled": true
   },
   "outputs": [
    {
     "data": {
      "text/html": [
       "<table>\n",
       "<thead><tr><th></th><th scope=col>Estimate</th><th scope=col>Std. Error</th><th scope=col>t value</th><th scope=col>Pr(&gt;|t|)</th></tr></thead>\n",
       "<tbody>\n",
       "\t<tr><th scope=row>(Intercept)</th><td>87.6413530   </td><td>1.7324709    </td><td>50.5874906   </td><td>2.671517e-197</td></tr>\n",
       "\t<tr><th scope=row>SexM</th><td> 3.4628299   </td><td>0.5686496    </td><td> 6.0895667   </td><td> 2.280061e-09</td></tr>\n",
       "\t<tr><th scope=row>LSB</th><td>-0.1629151   </td><td>0.1910395    </td><td>-0.8527825   </td><td> 3.941940e-01</td></tr>\n",
       "\t<tr><th scope=row>LSW</th><td> 0.4185185   </td><td>0.2255232    </td><td> 1.8557674   </td><td> 6.408327e-02</td></tr>\n",
       "\t<tr><th scope=row>G13</th><td> 2.4051075   </td><td>0.4040818    </td><td> 5.9520309   </td><td> 5.031517e-09</td></tr>\n",
       "\t<tr><th scope=row>G13_D</th><td> 0.4060069   </td><td>0.5645838    </td><td> 0.7191259   </td><td> 4.724040e-01</td></tr>\n",
       "</tbody>\n",
       "</table>\n"
      ],
      "text/latex": [
       "\\begin{tabular}{r|llll}\n",
       "  & Estimate & Std. Error & t value & Pr(>\\textbar{}t\\textbar{})\\\\\n",
       "\\hline\n",
       "\t(Intercept) & 87.6413530    & 1.7324709     & 50.5874906    & 2.671517e-197\\\\\n",
       "\tSexM &  3.4628299    & 0.5686496     &  6.0895667    &  2.280061e-09\\\\\n",
       "\tLSB & -0.1629151    & 0.1910395     & -0.8527825    &  3.941940e-01\\\\\n",
       "\tLSW &  0.4185185    & 0.2255232     &  1.8557674    &  6.408327e-02\\\\\n",
       "\tG13 &  2.4051075    & 0.4040818     &  5.9520309    &  5.031517e-09\\\\\n",
       "\tG13\\_D &  0.4060069    & 0.5645838     &  0.7191259    &  4.724040e-01\\\\\n",
       "\\end{tabular}\n"
      ],
      "text/markdown": [
       "1. 87.6413530101514\n",
       "2. 3.46282993822706\n",
       "3. -0.162915147976416\n",
       "4. 0.418518546483614\n",
       "5. 2.4051075353104\n",
       "6. 0.406006890062112\n",
       "7. 1.7324708518938\n",
       "8. 0.568649646713567\n",
       "9. 0.191039508052892\n",
       "10. 0.225523164746963\n",
       "11. 0.404081827278435\n",
       "12. 0.564583847437524\n",
       "13. 50.5874906434062\n",
       "14. 6.08956667473552\n",
       "15. -0.852782493196696\n",
       "16. 1.85576744168694\n",
       "17. 5.95203093271785\n",
       "18. 0.71912594011475\n",
       "19. 2.6715172506582e-197\n",
       "20. 2.28006075428887e-09\n",
       "21. 0.394194039149841\n",
       "22. 0.0640832652131305\n",
       "23. 5.03151740739552e-09\n",
       "24. 0.47240404586877\n",
       "\n",
       "\n"
      ],
      "text/plain": [
       "            Estimate   Std. Error t value    Pr(>|t|)     \n",
       "(Intercept) 87.6413530 1.7324709  50.5874906 2.671517e-197\n",
       "SexM         3.4628299 0.5686496   6.0895667  2.280061e-09\n",
       "LSB         -0.1629151 0.1910395  -0.8527825  3.941940e-01\n",
       "LSW          0.4185185 0.2255232   1.8557674  6.408327e-02\n",
       "G13          2.4051075 0.4040818   5.9520309  5.031517e-09\n",
       "G13_D        0.4060069 0.5645838   0.7191259  4.724040e-01"
      ]
     },
     "metadata": {},
     "output_type": "display_data"
    },
    {
     "data": {
      "text/html": [
       "<table>\n",
       "<thead><tr><th></th><th scope=col>Estimate</th><th scope=col>Std. Error</th><th scope=col>t value</th><th scope=col>Pr(&gt;|t|)</th></tr></thead>\n",
       "<tbody>\n",
       "\t<tr><th scope=row>(Intercept)</th><td>87.72057335  </td><td>1.7209586    </td><td>50.97192424  </td><td>8.588947e-198</td></tr>\n",
       "\t<tr><th scope=row>SexM</th><td> 3.41434735  </td><td>0.5638730    </td><td> 6.05517087  </td><td> 2.797913e-09</td></tr>\n",
       "\t<tr><th scope=row>LSB</th><td>-0.16171773  </td><td>0.1902646    </td><td>-0.84996249  </td><td> 3.957619e-01</td></tr>\n",
       "\t<tr><th scope=row>LSW</th><td> 0.41092536  </td><td>0.2241499    </td><td> 1.83326160  </td><td> 6.737138e-02</td></tr>\n",
       "\t<tr><th scope=row>G13</th><td>-0.07477335  </td><td>1.3187892    </td><td>-0.05669849  </td><td> 9.548085e-01</td></tr>\n",
       "\t<tr><th scope=row>G13_D</th><td>-0.07441339  </td><td>1.3300531    </td><td>-0.05594768  </td><td> 9.554063e-01</td></tr>\n",
       "\t<tr><th scope=row>G11</th><td>-0.14885092  </td><td>0.9305673    </td><td>-0.15995717  </td><td> 8.729809e-01</td></tr>\n",
       "\t<tr><th scope=row>G11_D</th><td>-1.40745596  </td><td>1.0503281    </td><td>-1.34001555  </td><td> 1.808626e-01</td></tr>\n",
       "\t<tr><th scope=row>G15</th><td> 2.81680603  </td><td>1.0017740    </td><td> 2.81181795  </td><td> 5.124188e-03</td></tr>\n",
       "\t<tr><th scope=row>G15_D</th><td> 1.94408410  </td><td>1.0136817    </td><td> 1.91784473  </td><td> 5.571283e-02</td></tr>\n",
       "</tbody>\n",
       "</table>\n"
      ],
      "text/latex": [
       "\\begin{tabular}{r|llll}\n",
       "  & Estimate & Std. Error & t value & Pr(>\\textbar{}t\\textbar{})\\\\\n",
       "\\hline\n",
       "\t(Intercept) & 87.72057335   & 1.7209586     & 50.97192424   & 8.588947e-198\\\\\n",
       "\tSexM &  3.41434735   & 0.5638730     &  6.05517087   &  2.797913e-09\\\\\n",
       "\tLSB & -0.16171773   & 0.1902646     & -0.84996249   &  3.957619e-01\\\\\n",
       "\tLSW &  0.41092536   & 0.2241499     &  1.83326160   &  6.737138e-02\\\\\n",
       "\tG13 & -0.07477335   & 1.3187892     & -0.05669849   &  9.548085e-01\\\\\n",
       "\tG13\\_D & -0.07441339   & 1.3300531     & -0.05594768   &  9.554063e-01\\\\\n",
       "\tG11 & -0.14885092   & 0.9305673     & -0.15995717   &  8.729809e-01\\\\\n",
       "\tG11\\_D & -1.40745596   & 1.0503281     & -1.34001555   &  1.808626e-01\\\\\n",
       "\tG15 &  2.81680603   & 1.0017740     &  2.81181795   &  5.124188e-03\\\\\n",
       "\tG15\\_D &  1.94408410   & 1.0136817     &  1.91784473   &  5.571283e-02\\\\\n",
       "\\end{tabular}\n"
      ],
      "text/markdown": [
       "1. 87.7205733451679\n",
       "2. 3.41434735267329\n",
       "3. -0.161717730722918\n",
       "4. 0.410925362037096\n",
       "5. -0.0747733526113295\n",
       "6. -0.0744133919143229\n",
       "7. -0.148850916165279\n",
       "8. -1.40745595797043\n",
       "9. 2.81680603326631\n",
       "10. 1.94408409758626\n",
       "11. 1.72095863860727\n",
       "12. 0.563872998184424\n",
       "13. 0.190264550845221\n",
       "14. 0.224149876749258\n",
       "15. 1.31878921364371\n",
       "16. 1.33005312519085\n",
       "17. 0.930567318418735\n",
       "18. 1.05032807719158\n",
       "19. 1.00177397168053\n",
       "20. 1.01368169749298\n",
       "21. 50.9719242387825\n",
       "22. 6.05517086944564\n",
       "23. -0.849962486466929\n",
       "24. 1.8332616015523\n",
       "25. -0.0566984866404365\n",
       "26. -0.0559476839721308\n",
       "27. -0.159957171522221\n",
       "28. -1.34001555183953\n",
       "29. 2.81181794785599\n",
       "30. 1.91784472620384\n",
       "31. 8.58894701607638e-198\n",
       "32. 2.79791347762487e-09\n",
       "33. 0.395761894443725\n",
       "34. 0.0673713826093633\n",
       "35. 0.954808538945493\n",
       "36. 0.955406335718667\n",
       "37. 0.872980862658228\n",
       "38. 0.180862612643115\n",
       "39. 0.00512418819200873\n",
       "40. 0.0557128345806111\n",
       "\n",
       "\n"
      ],
      "text/plain": [
       "            Estimate    Std. Error t value     Pr(>|t|)     \n",
       "(Intercept) 87.72057335 1.7209586  50.97192424 8.588947e-198\n",
       "SexM         3.41434735 0.5638730   6.05517087  2.797913e-09\n",
       "LSB         -0.16171773 0.1902646  -0.84996249  3.957619e-01\n",
       "LSW          0.41092536 0.2241499   1.83326160  6.737138e-02\n",
       "G13         -0.07477335 1.3187892  -0.05669849  9.548085e-01\n",
       "G13_D       -0.07441339 1.3300531  -0.05594768  9.554063e-01\n",
       "G11         -0.14885092 0.9305673  -0.15995717  8.729809e-01\n",
       "G11_D       -1.40745596 1.0503281  -1.34001555  1.808626e-01\n",
       "G15          2.81680603 1.0017740   2.81181795  5.124188e-03\n",
       "G15_D        1.94408410 1.0136817   1.91784473  5.571283e-02"
      ]
     },
     "metadata": {},
     "output_type": "display_data"
    }
   ],
   "source": [
    "fit_f2_m13         = lm(Trait2a ~ Sex + LSB + LSW + G13 + G13_D                            , data = f2_data)\n",
    "fit_f2_m13_fl11_15 = lm(Trait2a ~ Sex + LSB + LSW + G13 + G13_D + G11 + G11_D + G15 + G15_D, data = f2_data)\n",
    "summary(fit_f2_m13)$coefficients\n",
    "summary(fit_f2_m13_fl11_15)$coefficients"
   ]
  },
  {
   "cell_type": "markdown",
   "metadata": {},
   "source": [
    "Now let's redo all the individual markers, but including 2 flanking markers in the models. The markers at the edge of the chromossome only get one flanking marker."
   ]
  },
  {
   "cell_type": "code",
   "execution_count": 13,
   "metadata": {
    "collapsed": true
   },
   "outputs": [],
   "source": [
    "n_markers = 31\n",
    "interval = 6 # Play around with this value. \n",
    "fl_marker_fits = list()\n",
    "for(i in seq(n_markers)){\n",
    "    current_marker = paste0('G', i)\n",
    "    f2_data[[paste0(current_marker, '_D')]] = ifelse(f2_data[[current_marker]], 0, 1)\n",
    "    model_formula = paste0(\"Trait3a ~ Sex + LSB + LSW + \", current_marker, \"+\", current_marker, \"_D\")\n",
    "    if((i - interval) >= 1)\n",
    "        model_formula = paste0(model_formula, \"+ G\", paste0(i - interval), \"+ G\", paste0(i - interval), \"_D\")\n",
    "    if((i + interval) <= n_markers)\n",
    "        model_formula = paste0(model_formula, \"+ G\", paste0(i + interval), \"+ G\", paste0(i + interval), \"_D\")\n",
    "    fl_marker_fits[[i]] = lm(as.formula(model_formula), data = f2_data)\n",
    "}"
   ]
  },
  {
   "cell_type": "code",
   "execution_count": 14,
   "metadata": {
    "collapsed": false
   },
   "outputs": [
    {
     "data": {},
     "metadata": {},
     "output_type": "display_data"
    },
    {
     "data": {
      "image/png": "[encoded data removed]",
      "text/plain": [
       "plot without title"
      ]
     },
     "metadata": {},
     "output_type": "display_data"
    }
   ],
   "source": [
    "ldply(fl_marker_fits, function(x) summary(x)$coefficients[5, 'Pr(>|t|)']) %>%\n",
    "    ggplot(aes(1:n_markers, -log(V1))) + geom_line() + labs(x = \"marker\", y = \"LPR - probably wrong\") +\n",
    "    scale_x_continuous(breaks = seq(1, n_markers, by = 2))"
   ]
  },
  {
   "cell_type": "markdown",
   "metadata": {},
   "source": [
    "# Significance testing problems"
   ]
  },
  {
   "cell_type": "markdown",
   "metadata": {
    "collapsed": true
   },
   "source": [
    "Let's run a null model, with no QTLs, and see how many false postives we get. The expectation is the significance treashold we choose (5% maybe?)."
   ]
  },
  {
   "cell_type": "code",
   "execution_count": 15,
   "metadata": {
    "collapsed": true
   },
   "outputs": [],
   "source": [
    "marker_fits_trait1 = list()\n",
    "for(i in seq(n_markers)){\n",
    "    current_marker = paste0('G', i)\n",
    "    model_formula = paste0(\"trait1 ~ Sex + LSB + LSW + \", current_marker, \"+\", current_marker, \"_D\")\n",
    "    marker_fits_trait1[[i]] = lm(as.formula(model_formula), data = f2_data)\n",
    "}"
   ]
  },
  {
   "cell_type": "code",
   "execution_count": 16,
   "metadata": {
    "collapsed": false
   },
   "outputs": [
    {
     "data": {
      "text/html": [
       "<ol class=list-inline>\n",
       "\t<li>0.833007422546804</li>\n",
       "\t<li>0.738301295928877</li>\n",
       "\t<li>0.917013078819444</li>\n",
       "\t<li>0.867693689945837</li>\n",
       "\t<li>0.720004349387556</li>\n",
       "\t<li>0.976853746142142</li>\n",
       "\t<li>0.694979875050618</li>\n",
       "\t<li>0.67958866000655</li>\n",
       "\t<li>0.831842026494541</li>\n",
       "\t<li>0.57232591886209</li>\n",
       "\t<li>0.324277023910641</li>\n",
       "\t<li>0.335222919535231</li>\n",
       "\t<li>0.241818122499403</li>\n",
       "\t<li>0.413998917935562</li>\n",
       "\t<li>0.547353573642274</li>\n",
       "\t<li>0.462292595714761</li>\n",
       "\t<li>0.445094437036986</li>\n",
       "\t<li>0.641532924762128</li>\n",
       "\t<li>0.585512238889692</li>\n",
       "\t<li>0.963211345887258</li>\n",
       "\t<li>0.951357037961286</li>\n",
       "\t<li>0.343654642222389</li>\n",
       "\t<li>0.590679067706733</li>\n",
       "\t<li>0.593945486811936</li>\n",
       "\t<li>0.569368459184825</li>\n",
       "\t<li>0.659265426047666</li>\n",
       "\t<li>0.90151338075223</li>\n",
       "\t<li>0.805098629426637</li>\n",
       "\t<li>0.760299349137512</li>\n",
       "\t<li>0.901021961509799</li>\n",
       "\t<li>0.993751425915214</li>\n",
       "</ol>\n"
      ],
      "text/latex": [
       "\\begin{enumerate*}\n",
       "\\item 0.833007422546804\n",
       "\\item 0.738301295928877\n",
       "\\item 0.917013078819444\n",
       "\\item 0.867693689945837\n",
       "\\item 0.720004349387556\n",
       "\\item 0.976853746142142\n",
       "\\item 0.694979875050618\n",
       "\\item 0.67958866000655\n",
       "\\item 0.831842026494541\n",
       "\\item 0.57232591886209\n",
       "\\item 0.324277023910641\n",
       "\\item 0.335222919535231\n",
       "\\item 0.241818122499403\n",
       "\\item 0.413998917935562\n",
       "\\item 0.547353573642274\n",
       "\\item 0.462292595714761\n",
       "\\item 0.445094437036986\n",
       "\\item 0.641532924762128\n",
       "\\item 0.585512238889692\n",
       "\\item 0.963211345887258\n",
       "\\item 0.951357037961286\n",
       "\\item 0.343654642222389\n",
       "\\item 0.590679067706733\n",
       "\\item 0.593945486811936\n",
       "\\item 0.569368459184825\n",
       "\\item 0.659265426047666\n",
       "\\item 0.90151338075223\n",
       "\\item 0.805098629426637\n",
       "\\item 0.760299349137512\n",
       "\\item 0.901021961509799\n",
       "\\item 0.993751425915214\n",
       "\\end{enumerate*}\n"
      ],
      "text/markdown": [
       "1. 0.833007422546804\n",
       "2. 0.738301295928877\n",
       "3. 0.917013078819444\n",
       "4. 0.867693689945837\n",
       "5. 0.720004349387556\n",
       "6. 0.976853746142142\n",
       "7. 0.694979875050618\n",
       "8. 0.67958866000655\n",
       "9. 0.831842026494541\n",
       "10. 0.57232591886209\n",
       "11. 0.324277023910641\n",
       "12. 0.335222919535231\n",
       "13. 0.241818122499403\n",
       "14. 0.413998917935562\n",
       "15. 0.547353573642274\n",
       "16. 0.462292595714761\n",
       "17. 0.445094437036986\n",
       "18. 0.641532924762128\n",
       "19. 0.585512238889692\n",
       "20. 0.963211345887258\n",
       "21. 0.951357037961286\n",
       "22. 0.343654642222389\n",
       "23. 0.590679067706733\n",
       "24. 0.593945486811936\n",
       "25. 0.569368459184825\n",
       "26. 0.659265426047666\n",
       "27. 0.90151338075223\n",
       "28. 0.805098629426637\n",
       "29. 0.760299349137512\n",
       "30. 0.901021961509799\n",
       "31. 0.993751425915214\n",
       "\n",
       "\n"
      ],
      "text/plain": [
       " [1] 0.8330074 0.7383013 0.9170131 0.8676937 0.7200043 0.9768537 0.6949799\n",
       " [8] 0.6795887 0.8318420 0.5723259 0.3242770 0.3352229 0.2418181 0.4139989\n",
       "[15] 0.5473536 0.4622926 0.4450944 0.6415329 0.5855122 0.9632113 0.9513570\n",
       "[22] 0.3436546 0.5906791 0.5939455 0.5693685 0.6592654 0.9015134 0.8050986\n",
       "[29] 0.7602993 0.9010220 0.9937514"
      ]
     },
     "metadata": {},
     "output_type": "display_data"
    }
   ],
   "source": [
    "laply(marker_fits_trait1, function(x) summary(x)$coefficients[5, 'Pr(>|t|)'])"
   ]
  }
 ],
 "metadata": {
  "kernelspec": {
   "display_name": "R",
   "language": "R",
   "name": "ir"
  },
  "language_info": {
   "codemirror_mode": "r",
   "file_extension": ".r",
   "mimetype": "text/x-r-source",
   "name": "R",
   "pygments_lexer": "r",
   "version": "3.3.1"
  }
 },
 "nbformat": 4,
 "nbformat_minor": 0
}
