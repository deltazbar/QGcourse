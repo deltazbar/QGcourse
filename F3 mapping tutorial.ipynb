{
 "cells": [
  {
   "cell_type": "code",
   "execution_count": 36,
   "metadata": {
    "collapsed": false
   },
   "outputs": [
    {
     "name": "stderr",
     "output_type": "stream",
     "text": [
      "Installing package into ‘/home/diogro/R/x86_64-pc-linux-gnu-library/3.3’\n",
      "(as ‘lib’ is unspecified)\n",
      "Warning message:\n",
      "“unable to access index for repository http://owi.usgs.gov/R/src/contrib:\n",
      "  cannot open URL 'http://owi.usgs.gov/R/src/contrib/PACKAGES'”also installing the dependencies ‘Formula’, ‘latticeExtra’, ‘acepack’, ‘Hmisc’\n",
      "\n",
      "\n",
      "Attaching package: ‘lmerTest’\n",
      "\n",
      "The following object is masked from ‘package:lme4’:\n",
      "\n",
      "    lmer\n",
      "\n",
      "The following object is masked from ‘package:stats’:\n",
      "\n",
      "    step\n",
      "\n"
     ]
    }
   ],
   "source": [
    "if(!require(install.load)) {install.packages(\"install.load\");\n",
    "library(install.load)}\n",
    "install_load(\"plyr\", \"dplyr\", \"tidyr\", \"readr\", \"car\", \"lme4\", \"lmerTest\",\n",
    "             \"ggplot2\", \"cowplot\", \"devtools\")"
   ]
  },
  {
   "cell_type": "markdown",
   "metadata": {},
   "source": [
    "# Outline"
   ]
  },
  {
   "cell_type": "markdown",
   "metadata": {},
   "source": [
    "Introduce the F3 and the importance of population stratification.\n",
    " \n",
    "We could start by running the null model for the simulated markers and look at the inflation of false positive?  Then run a permutation with total randomization to show that it would appear unbiased if we ignored population structure.  We can then introduce the mixed model analysis to account for population structure (perhaps Alastair can also comment on this in relation to a population with a complex pedigree). Then re-run the analysis of the null model?\n",
    " \n",
    "I simulated one pleiotropic QTL in the F3 - so we can analyze the effect on traits 2a and 3a and we should see the same QTL appear - we can discuss this in relation to pleiotropy.\n",
    " \n",
    "Lab session later in the week:\n",
    "Genome prediction - fitting a model with all markers to predict phenotypes and how this can be used to estimate a genomic breeding value (basically a sort of BLUE for an individual based on their markers while estimating their BLUP from the random effects)\n",
    " \n",
    "Multivariate model - go back to pleiotropic QTL and discuss how we could estimate the vector of effect while fitting G?"
   ]
  },
  {
   "cell_type": "markdown",
   "metadata": {},
   "source": [
    "# Population stratification"
   ]
  },
  {
   "cell_type": "markdown",
   "metadata": {},
   "source": [
    "More resolution, but more complicated\n",
    "\n",
    "![](f3pop.png)"
   ]
  },
  {
   "cell_type": "markdown",
   "metadata": {},
   "source": [
    "# Reading and plotting data"
   ]
  },
  {
   "cell_type": "code",
   "execution_count": 16,
   "metadata": {
    "collapsed": false
   },
   "outputs": [
    {
     "name": "stderr",
     "output_type": "stream",
     "text": [
      "Parsed with column specification:\n",
      "cols(\n",
      "  .default = col_integer(),\n",
      "  Sex = col_character(),\n",
      "  Trait1 = col_double(),\n",
      "  Trait2 = col_double(),\n",
      "  Trait3 = col_double(),\n",
      "  Trait2a = col_double(),\n",
      "  Trait3a = col_double()\n",
      ")\n",
      "See spec(...) for full column specifications.\n"
     ]
    },
    {
     "data": {
      "text/html": [
       "<table>\n",
       "<thead><tr><th scope=col>ID</th><th scope=col>FAMILY</th><th scope=col>Sex</th><th scope=col>Sire</th><th scope=col>Dam</th><th scope=col>NURSE</th><th scope=col>LSB</th><th scope=col>LSW</th><th scope=col>Trait1</th><th scope=col>Trait2</th><th scope=col>⋯</th><th scope=col>G24</th><th scope=col>G25</th><th scope=col>G26</th><th scope=col>G27</th><th scope=col>G28</th><th scope=col>G29</th><th scope=col>G30</th><th scope=col>G31</th><th scope=col>Trait2a</th><th scope=col>Trait3a</th></tr></thead>\n",
       "<tbody>\n",
       "\t<tr><td>492       </td><td>11        </td><td>F         </td><td> 82       </td><td>173       </td><td>173       </td><td> 8        </td><td> 8        </td><td>0.08732662</td><td>12.511166 </td><td>⋯         </td><td> 0        </td><td> 1        </td><td> 1        </td><td> 1        </td><td> 1        </td><td> 1        </td><td> 1        </td><td> 1        </td><td>12.004366 </td><td>25.99122  </td></tr>\n",
       "\t<tr><td>493       </td><td>11        </td><td>F         </td><td> 82       </td><td>173       </td><td>173       </td><td> 8        </td><td> 8        </td><td>0.09732662</td><td>10.522276 </td><td>⋯         </td><td> 1        </td><td> 1        </td><td> 1        </td><td> 1        </td><td> 1        </td><td> 1        </td><td> 1        </td><td> 1        </td><td>10.522276 </td><td>22.88304  </td></tr>\n",
       "\t<tr><td>494       </td><td>14        </td><td>F         </td><td> 85       </td><td>114       </td><td>173       </td><td> 7        </td><td> 8        </td><td>0.09371156</td><td>13.818946 </td><td>⋯         </td><td>-1        </td><td>-1        </td><td>-1        </td><td>-1        </td><td>-1        </td><td>-1        </td><td>-1        </td><td>-1        </td><td>13.312146 </td><td>26.25022  </td></tr>\n",
       "\t<tr><td>495       </td><td>14        </td><td>M         </td><td> 85       </td><td>114       </td><td>173       </td><td> 7        </td><td> 8        </td><td>0.15897373</td><td>12.384913 </td><td>⋯         </td><td> 0        </td><td> 0        </td><td> 0        </td><td> 0        </td><td> 0        </td><td> 0        </td><td> 1        </td><td> 1        </td><td>12.891713 </td><td>30.75996  </td></tr>\n",
       "\t<tr><td>496       </td><td>11        </td><td>F         </td><td> 82       </td><td>173       </td><td>173       </td><td> 8        </td><td> 8        </td><td>0.02587000</td><td>13.101166 </td><td>⋯         </td><td> 1        </td><td> 1        </td><td> 1        </td><td> 1        </td><td> 1        </td><td> 1        </td><td> 1        </td><td> 1        </td><td>13.607966 </td><td>31.49486  </td></tr>\n",
       "\t<tr><td>497       </td><td>14        </td><td>M         </td><td> 85       </td><td>114       </td><td>173       </td><td> 7        </td><td> 8        </td><td>0.12987749</td><td>13.744913 </td><td>⋯         </td><td>-1        </td><td>-1        </td><td>-1        </td><td>-1        </td><td>-1        </td><td>-1        </td><td>-1        </td><td>-1        </td><td>13.238113 </td><td>33.92932  </td></tr>\n",
       "\t<tr><td>498       </td><td>14        </td><td>M         </td><td> 85       </td><td>114       </td><td>173       </td><td> 7        </td><td> 8        </td><td>0.10240803</td><td>13.376023 </td><td>⋯         </td><td>-1        </td><td>-1        </td><td>-1        </td><td> 0        </td><td> 0        </td><td> 0        </td><td> 0        </td><td> 0        </td><td>12.869223 </td><td>33.27632  </td></tr>\n",
       "\t<tr><td>499       </td><td>11        </td><td>F         </td><td> 82       </td><td>173       </td><td>173       </td><td> 8        </td><td> 8        </td><td>0.09491825</td><td>13.953386 </td><td>⋯         </td><td>-1        </td><td>-1        </td><td>-1        </td><td>-1        </td><td>-1        </td><td>-1        </td><td> 0        </td><td> 0        </td><td>13.446586 </td><td>28.12822  </td></tr>\n",
       "\t<tr><td>500       </td><td>11        </td><td>F         </td><td> 82       </td><td>173       </td><td>114       </td><td> 8        </td><td> 7        </td><td>0.09938281</td><td>10.617069 </td><td>⋯         </td><td>-1        </td><td>-1        </td><td>-1        </td><td>-1        </td><td>-1        </td><td>-1        </td><td> 0        </td><td> 0        </td><td>10.110269 </td><td>28.59073  </td></tr>\n",
       "\t<tr><td>501       </td><td>11        </td><td>M         </td><td> 82       </td><td>173       </td><td>114       </td><td> 8        </td><td> 7        </td><td>0.09229518</td><td>10.383046 </td><td>⋯         </td><td> 0        </td><td> 0        </td><td> 0        </td><td> 0        </td><td> 0        </td><td> 0        </td><td> 0        </td><td> 0        </td><td>10.383046 </td><td>28.14965  </td></tr>\n",
       "\t<tr><td>502       </td><td>11        </td><td>M         </td><td> 82       </td><td>173       </td><td>114       </td><td> 8        </td><td> 7        </td><td>0.09314036</td><td>12.258596 </td><td>⋯         </td><td> 1        </td><td> 1        </td><td> 1        </td><td> 0        </td><td> 0        </td><td> 0        </td><td> 0        </td><td> 0        </td><td>11.751796 </td><td>27.56783  </td></tr>\n",
       "\t<tr><td>503       </td><td>14        </td><td>F         </td><td> 85       </td><td>114       </td><td>114       </td><td> 7        </td><td> 7        </td><td>0.12787820</td><td> 9.839289 </td><td>⋯         </td><td>-1        </td><td>-1        </td><td>-1        </td><td> 0        </td><td> 0        </td><td> 0        </td><td> 0        </td><td> 0        </td><td> 9.332489 </td><td>30.13873  </td></tr>\n",
       "\t<tr><td>504       </td><td>14        </td><td>M         </td><td> 85       </td><td>114       </td><td>114       </td><td> 7        </td><td> 7        </td><td>0.13314036</td><td>10.613046 </td><td>⋯         </td><td> 0        </td><td> 0        </td><td> 0        </td><td> 0        </td><td> 0        </td><td> 0        </td><td> 0        </td><td> 0        </td><td>11.119846 </td><td>25.71247  </td></tr>\n",
       "\t<tr><td>505       </td><td>14        </td><td>F         </td><td> 85       </td><td>114       </td><td>114       </td><td> 7        </td><td> 7        </td><td>0.10787820</td><td> 9.033736 </td><td>⋯         </td><td> 0        </td><td> 0        </td><td> 0        </td><td> 0        </td><td> 0        </td><td> 0        </td><td> 1        </td><td> 1        </td><td> 9.033736 </td><td>27.63955  </td></tr>\n",
       "\t<tr><td>506       </td><td>11        </td><td>F         </td><td> 82       </td><td>173       </td><td>114       </td><td> 8        </td><td> 7        </td><td>0.09787820</td><td>10.922629 </td><td>⋯         </td><td>-1        </td><td>-1        </td><td>-1        </td><td>-1        </td><td>-1        </td><td>-1        </td><td> 0        </td><td> 0        </td><td>10.415829 </td><td>28.71473  </td></tr>\n",
       "\t<tr><td>507       </td><td>24        </td><td>F         </td><td>122       </td><td>103       </td><td>103       </td><td> 7        </td><td> 7        </td><td>0.09787820</td><td>11.814849 </td><td>⋯         </td><td> 0        </td><td> 0        </td><td> 0        </td><td> 1        </td><td> 1        </td><td> 1        </td><td> 1        </td><td> 1        </td><td>11.814849 </td><td>26.83955  </td></tr>\n",
       "\t<tr><td>508       </td><td>12        </td><td>F         </td><td> 83       </td><td>102       </td><td>103       </td><td>11        </td><td> 7        </td><td>0.12787820</td><td>11.182619 </td><td>⋯         </td><td> 1        </td><td> 1        </td><td> 1        </td><td> 0        </td><td> 0        </td><td> 0        </td><td> 0        </td><td> 0        </td><td>11.182619 </td><td>29.10755  </td></tr>\n",
       "\t<tr><td>509       </td><td>12        </td><td>M         </td><td> 83       </td><td>102       </td><td>103       </td><td>11        </td><td> 7        </td><td>0.16193367</td><td>11.535266 </td><td>⋯         </td><td> 0        </td><td> 0        </td><td> 0        </td><td>-1        </td><td>-1        </td><td>-1        </td><td> 0        </td><td> 0        </td><td>11.028466 </td><td>29.07283  </td></tr>\n",
       "\t<tr><td>510       </td><td>24        </td><td>F         </td><td>122       </td><td>103       </td><td>103       </td><td> 7        </td><td> 7        </td><td>0.09028657</td><td>11.680399 </td><td>⋯         </td><td>-1        </td><td>-1        </td><td>-1        </td><td>-1        </td><td>-1        </td><td>-1        </td><td> 0        </td><td> 0        </td><td>11.173599 </td><td>28.63373  </td></tr>\n",
       "\t<tr><td>511       </td><td>24        </td><td>F         </td><td>122       </td><td>103       </td><td>103       </td><td> 7        </td><td> 7        </td><td>0.08787820</td><td>11.301509 </td><td>⋯         </td><td>-1        </td><td>-1        </td><td>-1        </td><td>-1        </td><td>-1        </td><td>-1        </td><td> 0        </td><td> 0        </td><td>10.794709 </td><td>24.25273  </td></tr>\n",
       "\t<tr><td>512       </td><td>12        </td><td>M         </td><td> 83       </td><td>102       </td><td>103       </td><td>11        </td><td> 7        </td><td>0.09193367</td><td> 8.949709 </td><td>⋯         </td><td> 1        </td><td> 1        </td><td> 1        </td><td> 0        </td><td> 0        </td><td> 0        </td><td> 0        </td><td> 0        </td><td> 8.949709 </td><td>22.97965  </td></tr>\n",
       "\t<tr><td>513       </td><td>24        </td><td>F         </td><td>122       </td><td>103       </td><td>103       </td><td> 7        </td><td> 7        </td><td>0.09787820</td><td>11.933739 </td><td>⋯         </td><td> 0        </td><td>-1        </td><td>-1        </td><td>-1        </td><td>-1        </td><td>-1        </td><td> 0        </td><td> 0        </td><td>11.426939 </td><td>26.24273  </td></tr>\n",
       "\t<tr><td>514       </td><td>12        </td><td>F         </td><td> 83       </td><td>102       </td><td>102       </td><td>11        </td><td>11        </td><td>0.09830618</td><td>10.444278 </td><td>⋯         </td><td> 0        </td><td> 0        </td><td> 0        </td><td> 0        </td><td> 0        </td><td> 0        </td><td> 0        </td><td> 0        </td><td>10.444278 </td><td>26.38775  </td></tr>\n",
       "\t<tr><td>515       </td><td>24        </td><td>F         </td><td>122       </td><td>103       </td><td>102       </td><td> 7        </td><td>11        </td><td>0.10210200</td><td>10.954277 </td><td>⋯         </td><td> 0        </td><td> 0        </td><td> 0        </td><td> 1        </td><td> 1        </td><td> 0        </td><td> 0        </td><td>-1        </td><td>11.461077 </td><td>29.17557  </td></tr>\n",
       "\t<tr><td>516       </td><td>24        </td><td>F         </td><td>122       </td><td>103       </td><td>102       </td><td> 7        </td><td>11        </td><td>0.06878986</td><td> 9.877611 </td><td>⋯         </td><td> 0        </td><td> 0        </td><td> 0        </td><td> 0        </td><td> 0        </td><td> 0        </td><td> 0        </td><td>-1        </td><td>10.384411 </td><td>26.29057  </td></tr>\n",
       "\t<tr><td>517       </td><td>24        </td><td>M         </td><td>122       </td><td>103       </td><td>102       </td><td> 7        </td><td>11        </td><td>0.10495578</td><td>10.288029 </td><td>⋯         </td><td> 0        </td><td> 0        </td><td> 0        </td><td> 1        </td><td> 1        </td><td> 1        </td><td> 1        </td><td> 1        </td><td>10.794829 </td><td>22.21567  </td></tr>\n",
       "\t<tr><td>518       </td><td>12        </td><td>F         </td><td> 83       </td><td>102       </td><td>102       </td><td>11        </td><td>11        </td><td>0.08878986</td><td>10.440944 </td><td>⋯         </td><td>-1        </td><td>-1        </td><td>-1        </td><td> 0        </td><td> 0        </td><td> 0        </td><td> 0        </td><td> 0        </td><td> 9.934144 </td><td>25.07293  </td></tr>\n",
       "\t<tr><td>519       </td><td>24        </td><td>M         </td><td>122       </td><td>103       </td><td>102       </td><td> 7        </td><td>11        </td><td>0.13374910</td><td>11.310252 </td><td>⋯         </td><td> 0        </td><td> 0        </td><td> 0        </td><td> 0        </td><td> 0        </td><td> 0        </td><td>-1        </td><td>-1        </td><td>11.310252 </td><td>27.19985  </td></tr>\n",
       "\t<tr><td>520       </td><td>12        </td><td>M         </td><td> 83       </td><td>102       </td><td>102       </td><td>11        </td><td>11        </td><td>0.09718341</td><td> 8.835807 </td><td>⋯         </td><td> 0        </td><td> 0        </td><td> 0        </td><td> 0        </td><td> 0        </td><td> 0        </td><td>-1        </td><td> 0        </td><td> 8.835807 </td><td>23.16585  </td></tr>\n",
       "\t<tr><td>521       </td><td>12        </td><td>F         </td><td> 83       </td><td>102       </td><td>102       </td><td>11        </td><td>11        </td><td>0.09878986</td><td>10.115389 </td><td>⋯         </td><td> 0        </td><td> 0        </td><td> 0        </td><td> 0        </td><td> 0        </td><td> 0        </td><td> 0        </td><td> 0        </td><td>10.115389 </td><td>25.90775  </td></tr>\n",
       "\t<tr><td>⋮</td><td>⋮</td><td>⋮</td><td>⋮</td><td>⋮</td><td>⋮</td><td>⋮</td><td>⋮</td><td>⋮</td><td>⋮</td><td>⋱</td><td>⋮</td><td>⋮</td><td>⋮</td><td>⋮</td><td>⋮</td><td>⋮</td><td>⋮</td><td>⋮</td><td>⋮</td><td>⋮</td></tr>\n",
       "\t<tr><td>3139      </td><td>192       </td><td>F         </td><td>1443      </td><td>1173      </td><td>1171      </td><td> 8        </td><td>11        </td><td>0.10580035</td><td>14.343533 </td><td>⋯         </td><td>-1        </td><td>-1        </td><td> 0        </td><td> 1        </td><td> 1        </td><td> 1        </td><td> 0        </td><td> 0        </td><td>13.836733 </td><td>31.11215  </td></tr>\n",
       "\t<tr><td>3140      </td><td>192       </td><td>F         </td><td>1443      </td><td>1173      </td><td>1171      </td><td> 8        </td><td>11        </td><td>0.12580035</td><td>14.382533 </td><td>⋯         </td><td>-1        </td><td>-1        </td><td> 0        </td><td> 0        </td><td> 0        </td><td> 0        </td><td> 1        </td><td> 1        </td><td>14.382533 </td><td>33.01197  </td></tr>\n",
       "\t<tr><td>3141      </td><td>192       </td><td>F         </td><td>1443      </td><td>1173      </td><td>1173      </td><td> 8        </td><td> 8        </td><td>0.09592564</td><td>13.282172 </td><td>⋯         </td><td>-1        </td><td>-1        </td><td> 0        </td><td> 0        </td><td> 0        </td><td> 0        </td><td>-1        </td><td>-1        </td><td>12.775372 </td><td>19.37653  </td></tr>\n",
       "\t<tr><td>3142      </td><td>192       </td><td>M         </td><td>1443      </td><td>1173      </td><td>1173      </td><td> 8        </td><td> 8        </td><td>0.07719091</td><td>15.008172 </td><td>⋯         </td><td> 0        </td><td> 0        </td><td>-1        </td><td>-1        </td><td>-1        </td><td> 0        </td><td> 0        </td><td> 0        </td><td>15.008172 </td><td>37.08435  </td></tr>\n",
       "\t<tr><td>3143      </td><td>192       </td><td>F         </td><td>1443      </td><td>1173      </td><td>1173      </td><td> 8        </td><td> 8        </td><td>0.11592564</td><td>13.896172 </td><td>⋯         </td><td> 0        </td><td> 0        </td><td>-1        </td><td>-1        </td><td>-1        </td><td> 0        </td><td> 0        </td><td> 0        </td><td>13.896172 </td><td>23.68835  </td></tr>\n",
       "\t<tr><td>3144      </td><td>192       </td><td>M         </td><td>1443      </td><td>1173      </td><td>1173      </td><td> 8        </td><td> 8        </td><td>0.08592564</td><td>14.587172 </td><td>⋯         </td><td> 0        </td><td> 0        </td><td>-1        </td><td>-1        </td><td>-1        </td><td>-1        </td><td>-1        </td><td>-1        </td><td>14.587172 </td><td>31.95735  </td></tr>\n",
       "\t<tr><td>3145      </td><td>202       </td><td>M         </td><td>1441      </td><td>1171      </td><td>1173      </td><td>11        </td><td> 8        </td><td>0.13592564</td><td>14.418172 </td><td>⋯         </td><td> 0        </td><td> 0        </td><td> 0        </td><td> 0        </td><td>-1        </td><td>-1        </td><td> 0        </td><td> 0        </td><td>14.924972 </td><td>36.78817  </td></tr>\n",
       "\t<tr><td>3146      </td><td>202       </td><td>F         </td><td>1441      </td><td>1171      </td><td>1173      </td><td>11        </td><td> 8        </td><td>0.09875400</td><td>15.251172 </td><td>⋯         </td><td> 0        </td><td> 0        </td><td> 0        </td><td> 0        </td><td>-1        </td><td>-1        </td><td> 0        </td><td> 0        </td><td>15.757972 </td><td>34.83217  </td></tr>\n",
       "\t<tr><td>3147      </td><td>202       </td><td>M         </td><td>1441      </td><td>1171      </td><td>1173      </td><td>11        </td><td> 8        </td><td>0.10719091</td><td>15.030172 </td><td>⋯         </td><td> 0        </td><td> 0        </td><td> 0        </td><td> 0        </td><td>-1        </td><td>-1        </td><td> 0        </td><td> 0        </td><td>15.536972 </td><td>38.14017  </td></tr>\n",
       "\t<tr><td>3148      </td><td>202       </td><td>F         </td><td>1441      </td><td>1171      </td><td>1173      </td><td>11        </td><td> 8        </td><td>0.15592564</td><td>15.106172 </td><td>⋯         </td><td> 1        </td><td> 1        </td><td> 1        </td><td> 1        </td><td> 1        </td><td> 1        </td><td> 1        </td><td> 1        </td><td>15.612972 </td><td>28.53117  </td></tr>\n",
       "\t<tr><td>3265      </td><td>187       </td><td>M         </td><td>1169      </td><td>1437      </td><td>1437      </td><td> 4        </td><td> 4        </td><td>0.11463368</td><td>10.813225 </td><td>⋯         </td><td> 1        </td><td> 1        </td><td> 1        </td><td> 1        </td><td> 0        </td><td> 0        </td><td> 0        </td><td> 0        </td><td>10.813225 </td><td>24.53626  </td></tr>\n",
       "\t<tr><td>3266      </td><td>187       </td><td>F         </td><td>1169      </td><td>1437      </td><td>1437      </td><td> 4        </td><td> 4        </td><td>0.12919077</td><td>11.443919 </td><td>⋯         </td><td>-1        </td><td>-1        </td><td>-1        </td><td>-1        </td><td>-1        </td><td>-1        </td><td>-1        </td><td>-1        </td><td>10.937119 </td><td>25.50135  </td></tr>\n",
       "\t<tr><td>3267      </td><td>187       </td><td>F         </td><td>1169      </td><td>1437      </td><td>1437      </td><td> 4        </td><td> 4        </td><td>0.18972400</td><td>10.962919 </td><td>⋯         </td><td>-1        </td><td>-1        </td><td>-1        </td><td>-1        </td><td>-1        </td><td>-1        </td><td>-1        </td><td> 0        </td><td>10.456119 </td><td>21.20335  </td></tr>\n",
       "\t<tr><td>3268      </td><td>187       </td><td>F         </td><td>1169      </td><td>1437      </td><td>1437      </td><td> 4        </td><td> 4        </td><td>0.10919077</td><td> 9.872919 </td><td>⋯         </td><td>-1        </td><td>-1        </td><td>-1        </td><td>-1        </td><td>-1        </td><td> 0        </td><td>-1        </td><td>-1        </td><td> 9.366119 </td><td>18.87635  </td></tr>\n",
       "\t<tr><td>3305      </td><td>190       </td><td>M         </td><td>1297      </td><td>1438      </td><td>1438      </td><td> 9        </td><td> 8        </td><td>0.12773317</td><td>10.972172 </td><td>⋯         </td><td> 0        </td><td> 0        </td><td> 0        </td><td>-1        </td><td>-1        </td><td>-1        </td><td>-1        </td><td>-1        </td><td>10.972172 </td><td>33.71235  </td></tr>\n",
       "\t<tr><td>3306      </td><td>190       </td><td>F         </td><td>1297      </td><td>1438      </td><td>1438      </td><td> 9        </td><td> 8        </td><td>0.11229025</td><td>10.228865 </td><td>⋯         </td><td> 0        </td><td> 0        </td><td> 0        </td><td> 0        </td><td> 0        </td><td> 0        </td><td> 0        </td><td> 0        </td><td>10.735665 </td><td>32.84908  </td></tr>\n",
       "\t<tr><td>3307      </td><td>190       </td><td>M         </td><td>1297      </td><td>1438      </td><td>1438      </td><td> 9        </td><td> 8        </td><td>0.08773317</td><td> 9.642172 </td><td>⋯         </td><td> 0        </td><td> 0        </td><td> 0        </td><td> 0        </td><td> 0        </td><td> 0        </td><td> 0        </td><td> 0        </td><td> 9.642172 </td><td>23.83635  </td></tr>\n",
       "\t<tr><td>3308      </td><td>190       </td><td>F         </td><td>1297      </td><td>1438      </td><td>1438      </td><td> 9        </td><td> 8        </td><td>0.10229025</td><td> 9.859865 </td><td>⋯         </td><td>-1        </td><td>-1        </td><td>-1        </td><td>-1        </td><td>-1        </td><td>-1        </td><td>-1        </td><td>-1        </td><td> 9.353065 </td><td>25.37444  </td></tr>\n",
       "\t<tr><td>3309      </td><td>190       </td><td>F         </td><td>1297      </td><td>1438      </td><td>1438      </td><td> 9        </td><td> 8        </td><td>0.12229025</td><td>10.483865 </td><td>⋯         </td><td> 0        </td><td> 0        </td><td>-1        </td><td>-1        </td><td>-1        </td><td>-1        </td><td> 0        </td><td> 0        </td><td>10.483865 </td><td>31.15626  </td></tr>\n",
       "\t<tr><td>3310      </td><td>190       </td><td>M         </td><td>1297      </td><td>1438      </td><td>1438      </td><td> 9        </td><td> 8        </td><td>0.11773317</td><td>10.178172 </td><td>⋯         </td><td>NA        </td><td>NA        </td><td>NA        </td><td>NA        </td><td>NA        </td><td>NA        </td><td>NA        </td><td>NA        </td><td>10.178172 </td><td>31.54135  </td></tr>\n",
       "\t<tr><td>3311      </td><td>190       </td><td>M         </td><td>1297      </td><td>1438      </td><td>1438      </td><td> 9        </td><td> 8        </td><td>0.11773317</td><td> 9.742172 </td><td>⋯         </td><td> 1        </td><td> 1        </td><td> 1        </td><td> 0        </td><td> 0        </td><td> 0        </td><td> 0        </td><td> 0        </td><td>10.248972 </td><td>26.88117  </td></tr>\n",
       "\t<tr><td>3312      </td><td>190       </td><td>F         </td><td>1297      </td><td>1438      </td><td>1438      </td><td> 9        </td><td> 8        </td><td>0.10229025</td><td> 8.851865 </td><td>⋯         </td><td>-1        </td><td>-1        </td><td>-1        </td><td>-1        </td><td>-1        </td><td>-1        </td><td> 0        </td><td> 0        </td><td> 8.345065 </td><td>26.66644  </td></tr>\n",
       "\t<tr><td>3842      </td><td>188       </td><td>M         </td><td>1172      </td><td>1299      </td><td>1299      </td><td> 8        </td><td> 8        </td><td>0.11899844</td><td>10.197172 </td><td>⋯         </td><td>-1        </td><td>-1        </td><td>-1        </td><td>-1        </td><td>-1        </td><td>-1        </td><td>-1        </td><td> 0        </td><td>10.197172 </td><td>23.14235  </td></tr>\n",
       "\t<tr><td>3843      </td><td>188       </td><td>F         </td><td>1172      </td><td>1299      </td><td>1299      </td><td> 8        </td><td> 8        </td><td>0.08355552</td><td>10.212865 </td><td>⋯         </td><td> 0        </td><td> 0        </td><td> 0        </td><td> 0        </td><td> 0        </td><td> 0        </td><td> 0        </td><td> 0        </td><td>10.212865 </td><td>25.35926  </td></tr>\n",
       "\t<tr><td>3844      </td><td>188       </td><td>F         </td><td>1172      </td><td>1299      </td><td>1299      </td><td> 8        </td><td> 8        </td><td>0.05355552</td><td> 9.371865 </td><td>⋯         </td><td> 0        </td><td> 0        </td><td> 0        </td><td> 0        </td><td> 0        </td><td> 0        </td><td> 0        </td><td> 0        </td><td> 9.371865 </td><td>22.02126  </td></tr>\n",
       "\t<tr><td>3845      </td><td>188       </td><td>F         </td><td>1172      </td><td>1299      </td><td>1299      </td><td> 8        </td><td> 8        </td><td>0.14355552</td><td>10.696865 </td><td>⋯         </td><td> 0        </td><td> 0        </td><td> 1        </td><td> 1        </td><td> 1        </td><td> 1        </td><td> 1        </td><td> 1        </td><td>10.696865 </td><td>23.11626  </td></tr>\n",
       "\t<tr><td>3846      </td><td>188       </td><td>M         </td><td>1172      </td><td>1299      </td><td>1299      </td><td> 8        </td><td> 8        </td><td>0.08899844</td><td> 9.180172 </td><td>⋯         </td><td> 0        </td><td> 0        </td><td> 0        </td><td> 0        </td><td> 0        </td><td> 0        </td><td> 0        </td><td> 0        </td><td> 9.180172 </td><td>23.55035  </td></tr>\n",
       "\t<tr><td>3847      </td><td>188       </td><td>M         </td><td>1172      </td><td>1299      </td><td>1299      </td><td> 8        </td><td> 8        </td><td>0.09899844</td><td>10.396172 </td><td>⋯         </td><td> 0        </td><td> 0        </td><td> 0        </td><td> 0        </td><td> 0        </td><td> 0        </td><td> 0        </td><td> 0        </td><td>10.396172 </td><td>22.93835  </td></tr>\n",
       "\t<tr><td>3848      </td><td>188       </td><td>F         </td><td>1172      </td><td>1299      </td><td>1299      </td><td> 8        </td><td> 8        </td><td>0.12355552</td><td>10.214865 </td><td>⋯         </td><td> 0        </td><td> 0        </td><td> 0        </td><td> 0        </td><td> 0        </td><td> 0        </td><td> 0        </td><td> 0        </td><td>10.214865 </td><td>24.95126  </td></tr>\n",
       "\t<tr><td>3849      </td><td>188       </td><td>M         </td><td>1172      </td><td>1299      </td><td>1299      </td><td> 8        </td><td> 8        </td><td>0.08899844</td><td>10.963172 </td><td>⋯         </td><td> 0        </td><td> 0        </td><td> 0        </td><td> 0        </td><td> 0        </td><td> 0        </td><td>-1        </td><td> 0        </td><td>10.963172 </td><td>23.26835  </td></tr>\n",
       "</tbody>\n",
       "</table>\n"
      ],
      "text/latex": [
       "\\begin{tabular}{r|llllllllllllllllllllllllllllllllllllllllllll}\n",
       " ID & FAMILY & Sex & Sire & Dam & NURSE & LSB & LSW & Trait1 & Trait2 & ⋯ & G24 & G25 & G26 & G27 & G28 & G29 & G30 & G31 & Trait2a & Trait3a\\\\\n",
       "\\hline\n",
       "\t 492        & 11         & F          &  82        & 173        & 173        &  8         &  8         & 0.08732662 & 12.511166  & ⋯          &  0         &  1         &  1         &  1         &  1         &  1         &  1         &  1         & 12.004366  & 25.99122  \\\\\n",
       "\t 493        & 11         & F          &  82        & 173        & 173        &  8         &  8         & 0.09732662 & 10.522276  & ⋯          &  1         &  1         &  1         &  1         &  1         &  1         &  1         &  1         & 10.522276  & 22.88304  \\\\\n",
       "\t 494        & 14         & F          &  85        & 114        & 173        &  7         &  8         & 0.09371156 & 13.818946  & ⋯          & -1         & -1         & -1         & -1         & -1         & -1         & -1         & -1         & 13.312146  & 26.25022  \\\\\n",
       "\t 495        & 14         & M          &  85        & 114        & 173        &  7         &  8         & 0.15897373 & 12.384913  & ⋯          &  0         &  0         &  0         &  0         &  0         &  0         &  1         &  1         & 12.891713  & 30.75996  \\\\\n",
       "\t 496        & 11         & F          &  82        & 173        & 173        &  8         &  8         & 0.02587000 & 13.101166  & ⋯          &  1         &  1         &  1         &  1         &  1         &  1         &  1         &  1         & 13.607966  & 31.49486  \\\\\n",
       "\t 497        & 14         & M          &  85        & 114        & 173        &  7         &  8         & 0.12987749 & 13.744913  & ⋯          & -1         & -1         & -1         & -1         & -1         & -1         & -1         & -1         & 13.238113  & 33.92932  \\\\\n",
       "\t 498        & 14         & M          &  85        & 114        & 173        &  7         &  8         & 0.10240803 & 13.376023  & ⋯          & -1         & -1         & -1         &  0         &  0         &  0         &  0         &  0         & 12.869223  & 33.27632  \\\\\n",
       "\t 499        & 11         & F          &  82        & 173        & 173        &  8         &  8         & 0.09491825 & 13.953386  & ⋯          & -1         & -1         & -1         & -1         & -1         & -1         &  0         &  0         & 13.446586  & 28.12822  \\\\\n",
       "\t 500        & 11         & F          &  82        & 173        & 114        &  8         &  7         & 0.09938281 & 10.617069  & ⋯          & -1         & -1         & -1         & -1         & -1         & -1         &  0         &  0         & 10.110269  & 28.59073  \\\\\n",
       "\t 501        & 11         & M          &  82        & 173        & 114        &  8         &  7         & 0.09229518 & 10.383046  & ⋯          &  0         &  0         &  0         &  0         &  0         &  0         &  0         &  0         & 10.383046  & 28.14965  \\\\\n",
       "\t 502        & 11         & M          &  82        & 173        & 114        &  8         &  7         & 0.09314036 & 12.258596  & ⋯          &  1         &  1         &  1         &  0         &  0         &  0         &  0         &  0         & 11.751796  & 27.56783  \\\\\n",
       "\t 503        & 14         & F          &  85        & 114        & 114        &  7         &  7         & 0.12787820 &  9.839289  & ⋯          & -1         & -1         & -1         &  0         &  0         &  0         &  0         &  0         &  9.332489  & 30.13873  \\\\\n",
       "\t 504        & 14         & M          &  85        & 114        & 114        &  7         &  7         & 0.13314036 & 10.613046  & ⋯          &  0         &  0         &  0         &  0         &  0         &  0         &  0         &  0         & 11.119846  & 25.71247  \\\\\n",
       "\t 505        & 14         & F          &  85        & 114        & 114        &  7         &  7         & 0.10787820 &  9.033736  & ⋯          &  0         &  0         &  0         &  0         &  0         &  0         &  1         &  1         &  9.033736  & 27.63955  \\\\\n",
       "\t 506        & 11         & F          &  82        & 173        & 114        &  8         &  7         & 0.09787820 & 10.922629  & ⋯          & -1         & -1         & -1         & -1         & -1         & -1         &  0         &  0         & 10.415829  & 28.71473  \\\\\n",
       "\t 507        & 24         & F          & 122        & 103        & 103        &  7         &  7         & 0.09787820 & 11.814849  & ⋯          &  0         &  0         &  0         &  1         &  1         &  1         &  1         &  1         & 11.814849  & 26.83955  \\\\\n",
       "\t 508        & 12         & F          &  83        & 102        & 103        & 11         &  7         & 0.12787820 & 11.182619  & ⋯          &  1         &  1         &  1         &  0         &  0         &  0         &  0         &  0         & 11.182619  & 29.10755  \\\\\n",
       "\t 509        & 12         & M          &  83        & 102        & 103        & 11         &  7         & 0.16193367 & 11.535266  & ⋯          &  0         &  0         &  0         & -1         & -1         & -1         &  0         &  0         & 11.028466  & 29.07283  \\\\\n",
       "\t 510        & 24         & F          & 122        & 103        & 103        &  7         &  7         & 0.09028657 & 11.680399  & ⋯          & -1         & -1         & -1         & -1         & -1         & -1         &  0         &  0         & 11.173599  & 28.63373  \\\\\n",
       "\t 511        & 24         & F          & 122        & 103        & 103        &  7         &  7         & 0.08787820 & 11.301509  & ⋯          & -1         & -1         & -1         & -1         & -1         & -1         &  0         &  0         & 10.794709  & 24.25273  \\\\\n",
       "\t 512        & 12         & M          &  83        & 102        & 103        & 11         &  7         & 0.09193367 &  8.949709  & ⋯          &  1         &  1         &  1         &  0         &  0         &  0         &  0         &  0         &  8.949709  & 22.97965  \\\\\n",
       "\t 513        & 24         & F          & 122        & 103        & 103        &  7         &  7         & 0.09787820 & 11.933739  & ⋯          &  0         & -1         & -1         & -1         & -1         & -1         &  0         &  0         & 11.426939  & 26.24273  \\\\\n",
       "\t 514        & 12         & F          &  83        & 102        & 102        & 11         & 11         & 0.09830618 & 10.444278  & ⋯          &  0         &  0         &  0         &  0         &  0         &  0         &  0         &  0         & 10.444278  & 26.38775  \\\\\n",
       "\t 515        & 24         & F          & 122        & 103        & 102        &  7         & 11         & 0.10210200 & 10.954277  & ⋯          &  0         &  0         &  0         &  1         &  1         &  0         &  0         & -1         & 11.461077  & 29.17557  \\\\\n",
       "\t 516        & 24         & F          & 122        & 103        & 102        &  7         & 11         & 0.06878986 &  9.877611  & ⋯          &  0         &  0         &  0         &  0         &  0         &  0         &  0         & -1         & 10.384411  & 26.29057  \\\\\n",
       "\t 517        & 24         & M          & 122        & 103        & 102        &  7         & 11         & 0.10495578 & 10.288029  & ⋯          &  0         &  0         &  0         &  1         &  1         &  1         &  1         &  1         & 10.794829  & 22.21567  \\\\\n",
       "\t 518        & 12         & F          &  83        & 102        & 102        & 11         & 11         & 0.08878986 & 10.440944  & ⋯          & -1         & -1         & -1         &  0         &  0         &  0         &  0         &  0         &  9.934144  & 25.07293  \\\\\n",
       "\t 519        & 24         & M          & 122        & 103        & 102        &  7         & 11         & 0.13374910 & 11.310252  & ⋯          &  0         &  0         &  0         &  0         &  0         &  0         & -1         & -1         & 11.310252  & 27.19985  \\\\\n",
       "\t 520        & 12         & M          &  83        & 102        & 102        & 11         & 11         & 0.09718341 &  8.835807  & ⋯          &  0         &  0         &  0         &  0         &  0         &  0         & -1         &  0         &  8.835807  & 23.16585  \\\\\n",
       "\t 521        & 12         & F          &  83        & 102        & 102        & 11         & 11         & 0.09878986 & 10.115389  & ⋯          &  0         &  0         &  0         &  0         &  0         &  0         &  0         &  0         & 10.115389  & 25.90775  \\\\\n",
       "\t ⋮ & ⋮ & ⋮ & ⋮ & ⋮ & ⋮ & ⋮ & ⋮ & ⋮ & ⋮ & ⋱ & ⋮ & ⋮ & ⋮ & ⋮ & ⋮ & ⋮ & ⋮ & ⋮ & ⋮ & ⋮\\\\\n",
       "\t 3139       & 192        & F          & 1443       & 1173       & 1171       &  8         & 11         & 0.10580035 & 14.343533  & ⋯          & -1         & -1         &  0         &  1         &  1         &  1         &  0         &  0         & 13.836733  & 31.11215  \\\\\n",
       "\t 3140       & 192        & F          & 1443       & 1173       & 1171       &  8         & 11         & 0.12580035 & 14.382533  & ⋯          & -1         & -1         &  0         &  0         &  0         &  0         &  1         &  1         & 14.382533  & 33.01197  \\\\\n",
       "\t 3141       & 192        & F          & 1443       & 1173       & 1173       &  8         &  8         & 0.09592564 & 13.282172  & ⋯          & -1         & -1         &  0         &  0         &  0         &  0         & -1         & -1         & 12.775372  & 19.37653  \\\\\n",
       "\t 3142       & 192        & M          & 1443       & 1173       & 1173       &  8         &  8         & 0.07719091 & 15.008172  & ⋯          &  0         &  0         & -1         & -1         & -1         &  0         &  0         &  0         & 15.008172  & 37.08435  \\\\\n",
       "\t 3143       & 192        & F          & 1443       & 1173       & 1173       &  8         &  8         & 0.11592564 & 13.896172  & ⋯          &  0         &  0         & -1         & -1         & -1         &  0         &  0         &  0         & 13.896172  & 23.68835  \\\\\n",
       "\t 3144       & 192        & M          & 1443       & 1173       & 1173       &  8         &  8         & 0.08592564 & 14.587172  & ⋯          &  0         &  0         & -1         & -1         & -1         & -1         & -1         & -1         & 14.587172  & 31.95735  \\\\\n",
       "\t 3145       & 202        & M          & 1441       & 1171       & 1173       & 11         &  8         & 0.13592564 & 14.418172  & ⋯          &  0         &  0         &  0         &  0         & -1         & -1         &  0         &  0         & 14.924972  & 36.78817  \\\\\n",
       "\t 3146       & 202        & F          & 1441       & 1171       & 1173       & 11         &  8         & 0.09875400 & 15.251172  & ⋯          &  0         &  0         &  0         &  0         & -1         & -1         &  0         &  0         & 15.757972  & 34.83217  \\\\\n",
       "\t 3147       & 202        & M          & 1441       & 1171       & 1173       & 11         &  8         & 0.10719091 & 15.030172  & ⋯          &  0         &  0         &  0         &  0         & -1         & -1         &  0         &  0         & 15.536972  & 38.14017  \\\\\n",
       "\t 3148       & 202        & F          & 1441       & 1171       & 1173       & 11         &  8         & 0.15592564 & 15.106172  & ⋯          &  1         &  1         &  1         &  1         &  1         &  1         &  1         &  1         & 15.612972  & 28.53117  \\\\\n",
       "\t 3265       & 187        & M          & 1169       & 1437       & 1437       &  4         &  4         & 0.11463368 & 10.813225  & ⋯          &  1         &  1         &  1         &  1         &  0         &  0         &  0         &  0         & 10.813225  & 24.53626  \\\\\n",
       "\t 3266       & 187        & F          & 1169       & 1437       & 1437       &  4         &  4         & 0.12919077 & 11.443919  & ⋯          & -1         & -1         & -1         & -1         & -1         & -1         & -1         & -1         & 10.937119  & 25.50135  \\\\\n",
       "\t 3267       & 187        & F          & 1169       & 1437       & 1437       &  4         &  4         & 0.18972400 & 10.962919  & ⋯          & -1         & -1         & -1         & -1         & -1         & -1         & -1         &  0         & 10.456119  & 21.20335  \\\\\n",
       "\t 3268       & 187        & F          & 1169       & 1437       & 1437       &  4         &  4         & 0.10919077 &  9.872919  & ⋯          & -1         & -1         & -1         & -1         & -1         &  0         & -1         & -1         &  9.366119  & 18.87635  \\\\\n",
       "\t 3305       & 190        & M          & 1297       & 1438       & 1438       &  9         &  8         & 0.12773317 & 10.972172  & ⋯          &  0         &  0         &  0         & -1         & -1         & -1         & -1         & -1         & 10.972172  & 33.71235  \\\\\n",
       "\t 3306       & 190        & F          & 1297       & 1438       & 1438       &  9         &  8         & 0.11229025 & 10.228865  & ⋯          &  0         &  0         &  0         &  0         &  0         &  0         &  0         &  0         & 10.735665  & 32.84908  \\\\\n",
       "\t 3307       & 190        & M          & 1297       & 1438       & 1438       &  9         &  8         & 0.08773317 &  9.642172  & ⋯          &  0         &  0         &  0         &  0         &  0         &  0         &  0         &  0         &  9.642172  & 23.83635  \\\\\n",
       "\t 3308       & 190        & F          & 1297       & 1438       & 1438       &  9         &  8         & 0.10229025 &  9.859865  & ⋯          & -1         & -1         & -1         & -1         & -1         & -1         & -1         & -1         &  9.353065  & 25.37444  \\\\\n",
       "\t 3309       & 190        & F          & 1297       & 1438       & 1438       &  9         &  8         & 0.12229025 & 10.483865  & ⋯          &  0         &  0         & -1         & -1         & -1         & -1         &  0         &  0         & 10.483865  & 31.15626  \\\\\n",
       "\t 3310       & 190        & M          & 1297       & 1438       & 1438       &  9         &  8         & 0.11773317 & 10.178172  & ⋯          & NA         & NA         & NA         & NA         & NA         & NA         & NA         & NA         & 10.178172  & 31.54135  \\\\\n",
       "\t 3311       & 190        & M          & 1297       & 1438       & 1438       &  9         &  8         & 0.11773317 &  9.742172  & ⋯          &  1         &  1         &  1         &  0         &  0         &  0         &  0         &  0         & 10.248972  & 26.88117  \\\\\n",
       "\t 3312       & 190        & F          & 1297       & 1438       & 1438       &  9         &  8         & 0.10229025 &  8.851865  & ⋯          & -1         & -1         & -1         & -1         & -1         & -1         &  0         &  0         &  8.345065  & 26.66644  \\\\\n",
       "\t 3842       & 188        & M          & 1172       & 1299       & 1299       &  8         &  8         & 0.11899844 & 10.197172  & ⋯          & -1         & -1         & -1         & -1         & -1         & -1         & -1         &  0         & 10.197172  & 23.14235  \\\\\n",
       "\t 3843       & 188        & F          & 1172       & 1299       & 1299       &  8         &  8         & 0.08355552 & 10.212865  & ⋯          &  0         &  0         &  0         &  0         &  0         &  0         &  0         &  0         & 10.212865  & 25.35926  \\\\\n",
       "\t 3844       & 188        & F          & 1172       & 1299       & 1299       &  8         &  8         & 0.05355552 &  9.371865  & ⋯          &  0         &  0         &  0         &  0         &  0         &  0         &  0         &  0         &  9.371865  & 22.02126  \\\\\n",
       "\t 3845       & 188        & F          & 1172       & 1299       & 1299       &  8         &  8         & 0.14355552 & 10.696865  & ⋯          &  0         &  0         &  1         &  1         &  1         &  1         &  1         &  1         & 10.696865  & 23.11626  \\\\\n",
       "\t 3846       & 188        & M          & 1172       & 1299       & 1299       &  8         &  8         & 0.08899844 &  9.180172  & ⋯          &  0         &  0         &  0         &  0         &  0         &  0         &  0         &  0         &  9.180172  & 23.55035  \\\\\n",
       "\t 3847       & 188        & M          & 1172       & 1299       & 1299       &  8         &  8         & 0.09899844 & 10.396172  & ⋯          &  0         &  0         &  0         &  0         &  0         &  0         &  0         &  0         & 10.396172  & 22.93835  \\\\\n",
       "\t 3848       & 188        & F          & 1172       & 1299       & 1299       &  8         &  8         & 0.12355552 & 10.214865  & ⋯          &  0         &  0         &  0         &  0         &  0         &  0         &  0         &  0         & 10.214865  & 24.95126  \\\\\n",
       "\t 3849       & 188        & M          & 1172       & 1299       & 1299       &  8         &  8         & 0.08899844 & 10.963172  & ⋯          &  0         &  0         &  0         &  0         &  0         &  0         & -1         &  0         & 10.963172  & 23.26835  \\\\\n",
       "\\end{tabular}\n"
      ],
      "text/plain": [
       "     ID   FAMILY Sex Sire Dam  NURSE LSB LSW Trait1     Trait2    ⋯ G24 G25 G26\n",
       "1    492  11     F    82  173  173    8   8  0.08732662 12.511166 ⋯  0   1   1 \n",
       "2    493  11     F    82  173  173    8   8  0.09732662 10.522276 ⋯  1   1   1 \n",
       "3    494  14     F    85  114  173    7   8  0.09371156 13.818946 ⋯ -1  -1  -1 \n",
       "4    495  14     M    85  114  173    7   8  0.15897373 12.384913 ⋯  0   0   0 \n",
       "5    496  11     F    82  173  173    8   8  0.02587000 13.101166 ⋯  1   1   1 \n",
       "6    497  14     M    85  114  173    7   8  0.12987749 13.744913 ⋯ -1  -1  -1 \n",
       "7    498  14     M    85  114  173    7   8  0.10240803 13.376023 ⋯ -1  -1  -1 \n",
       "8    499  11     F    82  173  173    8   8  0.09491825 13.953386 ⋯ -1  -1  -1 \n",
       "9    500  11     F    82  173  114    8   7  0.09938281 10.617069 ⋯ -1  -1  -1 \n",
       "10   501  11     M    82  173  114    8   7  0.09229518 10.383046 ⋯  0   0   0 \n",
       "11   502  11     M    82  173  114    8   7  0.09314036 12.258596 ⋯  1   1   1 \n",
       "12   503  14     F    85  114  114    7   7  0.12787820  9.839289 ⋯ -1  -1  -1 \n",
       "13   504  14     M    85  114  114    7   7  0.13314036 10.613046 ⋯  0   0   0 \n",
       "14   505  14     F    85  114  114    7   7  0.10787820  9.033736 ⋯  0   0   0 \n",
       "15   506  11     F    82  173  114    8   7  0.09787820 10.922629 ⋯ -1  -1  -1 \n",
       "16   507  24     F   122  103  103    7   7  0.09787820 11.814849 ⋯  0   0   0 \n",
       "17   508  12     F    83  102  103   11   7  0.12787820 11.182619 ⋯  1   1   1 \n",
       "18   509  12     M    83  102  103   11   7  0.16193367 11.535266 ⋯  0   0   0 \n",
       "19   510  24     F   122  103  103    7   7  0.09028657 11.680399 ⋯ -1  -1  -1 \n",
       "20   511  24     F   122  103  103    7   7  0.08787820 11.301509 ⋯ -1  -1  -1 \n",
       "21   512  12     M    83  102  103   11   7  0.09193367  8.949709 ⋯  1   1   1 \n",
       "22   513  24     F   122  103  103    7   7  0.09787820 11.933739 ⋯  0  -1  -1 \n",
       "23   514  12     F    83  102  102   11  11  0.09830618 10.444278 ⋯  0   0   0 \n",
       "24   515  24     F   122  103  102    7  11  0.10210200 10.954277 ⋯  0   0   0 \n",
       "25   516  24     F   122  103  102    7  11  0.06878986  9.877611 ⋯  0   0   0 \n",
       "26   517  24     M   122  103  102    7  11  0.10495578 10.288029 ⋯  0   0   0 \n",
       "27   518  12     F    83  102  102   11  11  0.08878986 10.440944 ⋯ -1  -1  -1 \n",
       "28   519  24     M   122  103  102    7  11  0.13374910 11.310252 ⋯  0   0   0 \n",
       "29   520  12     M    83  102  102   11  11  0.09718341  8.835807 ⋯  0   0   0 \n",
       "30   521  12     F    83  102  102   11  11  0.09878986 10.115389 ⋯  0   0   0 \n",
       "⋮    ⋮    ⋮      ⋮   ⋮    ⋮    ⋮     ⋮   ⋮   ⋮          ⋮         ⋱ ⋮   ⋮   ⋮  \n",
       "1582 3139 192    F   1443 1173 1171   8  11  0.10580035 14.343533 ⋯ -1  -1   0 \n",
       "1583 3140 192    F   1443 1173 1171   8  11  0.12580035 14.382533 ⋯ -1  -1   0 \n",
       "1584 3141 192    F   1443 1173 1173   8   8  0.09592564 13.282172 ⋯ -1  -1   0 \n",
       "1585 3142 192    M   1443 1173 1173   8   8  0.07719091 15.008172 ⋯  0   0  -1 \n",
       "1586 3143 192    F   1443 1173 1173   8   8  0.11592564 13.896172 ⋯  0   0  -1 \n",
       "1587 3144 192    M   1443 1173 1173   8   8  0.08592564 14.587172 ⋯  0   0  -1 \n",
       "1588 3145 202    M   1441 1171 1173  11   8  0.13592564 14.418172 ⋯  0   0   0 \n",
       "1589 3146 202    F   1441 1171 1173  11   8  0.09875400 15.251172 ⋯  0   0   0 \n",
       "1590 3147 202    M   1441 1171 1173  11   8  0.10719091 15.030172 ⋯  0   0   0 \n",
       "1591 3148 202    F   1441 1171 1173  11   8  0.15592564 15.106172 ⋯  1   1   1 \n",
       "1592 3265 187    M   1169 1437 1437   4   4  0.11463368 10.813225 ⋯  1   1   1 \n",
       "1593 3266 187    F   1169 1437 1437   4   4  0.12919077 11.443919 ⋯ -1  -1  -1 \n",
       "1594 3267 187    F   1169 1437 1437   4   4  0.18972400 10.962919 ⋯ -1  -1  -1 \n",
       "1595 3268 187    F   1169 1437 1437   4   4  0.10919077  9.872919 ⋯ -1  -1  -1 \n",
       "1596 3305 190    M   1297 1438 1438   9   8  0.12773317 10.972172 ⋯  0   0   0 \n",
       "1597 3306 190    F   1297 1438 1438   9   8  0.11229025 10.228865 ⋯  0   0   0 \n",
       "1598 3307 190    M   1297 1438 1438   9   8  0.08773317  9.642172 ⋯  0   0   0 \n",
       "1599 3308 190    F   1297 1438 1438   9   8  0.10229025  9.859865 ⋯ -1  -1  -1 \n",
       "1600 3309 190    F   1297 1438 1438   9   8  0.12229025 10.483865 ⋯  0   0  -1 \n",
       "1601 3310 190    M   1297 1438 1438   9   8  0.11773317 10.178172 ⋯ NA  NA  NA \n",
       "1602 3311 190    M   1297 1438 1438   9   8  0.11773317  9.742172 ⋯  1   1   1 \n",
       "1603 3312 190    F   1297 1438 1438   9   8  0.10229025  8.851865 ⋯ -1  -1  -1 \n",
       "1604 3842 188    M   1172 1299 1299   8   8  0.11899844 10.197172 ⋯ -1  -1  -1 \n",
       "1605 3843 188    F   1172 1299 1299   8   8  0.08355552 10.212865 ⋯  0   0   0 \n",
       "1606 3844 188    F   1172 1299 1299   8   8  0.05355552  9.371865 ⋯  0   0   0 \n",
       "1607 3845 188    F   1172 1299 1299   8   8  0.14355552 10.696865 ⋯  0   0   1 \n",
       "1608 3846 188    M   1172 1299 1299   8   8  0.08899844  9.180172 ⋯  0   0   0 \n",
       "1609 3847 188    M   1172 1299 1299   8   8  0.09899844 10.396172 ⋯  0   0   0 \n",
       "1610 3848 188    F   1172 1299 1299   8   8  0.12355552 10.214865 ⋯  0   0   0 \n",
       "1611 3849 188    M   1172 1299 1299   8   8  0.08899844 10.963172 ⋯  0   0   0 \n",
       "     G27 G28 G29 G30 G31 Trait2a   Trait3a \n",
       "1     1   1   1   1   1  12.004366 25.99122\n",
       "2     1   1   1   1   1  10.522276 22.88304\n",
       "3    -1  -1  -1  -1  -1  13.312146 26.25022\n",
       "4     0   0   0   1   1  12.891713 30.75996\n",
       "5     1   1   1   1   1  13.607966 31.49486\n",
       "6    -1  -1  -1  -1  -1  13.238113 33.92932\n",
       "7     0   0   0   0   0  12.869223 33.27632\n",
       "8    -1  -1  -1   0   0  13.446586 28.12822\n",
       "9    -1  -1  -1   0   0  10.110269 28.59073\n",
       "10    0   0   0   0   0  10.383046 28.14965\n",
       "11    0   0   0   0   0  11.751796 27.56783\n",
       "12    0   0   0   0   0   9.332489 30.13873\n",
       "13    0   0   0   0   0  11.119846 25.71247\n",
       "14    0   0   0   1   1   9.033736 27.63955\n",
       "15   -1  -1  -1   0   0  10.415829 28.71473\n",
       "16    1   1   1   1   1  11.814849 26.83955\n",
       "17    0   0   0   0   0  11.182619 29.10755\n",
       "18   -1  -1  -1   0   0  11.028466 29.07283\n",
       "19   -1  -1  -1   0   0  11.173599 28.63373\n",
       "20   -1  -1  -1   0   0  10.794709 24.25273\n",
       "21    0   0   0   0   0   8.949709 22.97965\n",
       "22   -1  -1  -1   0   0  11.426939 26.24273\n",
       "23    0   0   0   0   0  10.444278 26.38775\n",
       "24    1   1   0   0  -1  11.461077 29.17557\n",
       "25    0   0   0   0  -1  10.384411 26.29057\n",
       "26    1   1   1   1   1  10.794829 22.21567\n",
       "27    0   0   0   0   0   9.934144 25.07293\n",
       "28    0   0   0  -1  -1  11.310252 27.19985\n",
       "29    0   0   0  -1   0   8.835807 23.16585\n",
       "30    0   0   0   0   0  10.115389 25.90775\n",
       "⋮    ⋮   ⋮   ⋮   ⋮   ⋮   ⋮         ⋮       \n",
       "1582  1   1   1   0   0  13.836733 31.11215\n",
       "1583  0   0   0   1   1  14.382533 33.01197\n",
       "1584  0   0   0  -1  -1  12.775372 19.37653\n",
       "1585 -1  -1   0   0   0  15.008172 37.08435\n",
       "1586 -1  -1   0   0   0  13.896172 23.68835\n",
       "1587 -1  -1  -1  -1  -1  14.587172 31.95735\n",
       "1588  0  -1  -1   0   0  14.924972 36.78817\n",
       "1589  0  -1  -1   0   0  15.757972 34.83217\n",
       "1590  0  -1  -1   0   0  15.536972 38.14017\n",
       "1591  1   1   1   1   1  15.612972 28.53117\n",
       "1592  1   0   0   0   0  10.813225 24.53626\n",
       "1593 -1  -1  -1  -1  -1  10.937119 25.50135\n",
       "1594 -1  -1  -1  -1   0  10.456119 21.20335\n",
       "1595 -1  -1   0  -1  -1   9.366119 18.87635\n",
       "1596 -1  -1  -1  -1  -1  10.972172 33.71235\n",
       "1597  0   0   0   0   0  10.735665 32.84908\n",
       "1598  0   0   0   0   0   9.642172 23.83635\n",
       "1599 -1  -1  -1  -1  -1   9.353065 25.37444\n",
       "1600 -1  -1  -1   0   0  10.483865 31.15626\n",
       "1601 NA  NA  NA  NA  NA  10.178172 31.54135\n",
       "1602  0   0   0   0   0  10.248972 26.88117\n",
       "1603 -1  -1  -1   0   0   8.345065 26.66644\n",
       "1604 -1  -1  -1  -1   0  10.197172 23.14235\n",
       "1605  0   0   0   0   0  10.212865 25.35926\n",
       "1606  0   0   0   0   0   9.371865 22.02126\n",
       "1607  1   1   1   1   1  10.696865 23.11626\n",
       "1608  0   0   0   0   0   9.180172 23.55035\n",
       "1609  0   0   0   0   0  10.396172 22.93835\n",
       "1610  0   0   0   0   0  10.214865 24.95126\n",
       "1611  0   0   0  -1   0  10.963172 23.26835"
      ]
     },
     "metadata": {},
     "output_type": "display_data"
    }
   ],
   "source": [
    "f3_data = read_csv(\"./F3 geno pheno with QTL effect.csv\")\n",
    "f3_data"
   ]
  },
  {
   "cell_type": "code",
   "execution_count": 17,
   "metadata": {
    "collapsed": false,
    "scrolled": true
   },
   "outputs": [
    {
     "name": "stderr",
     "output_type": "stream",
     "text": [
      "Warning message:\n",
      "“Removed 6 rows containing non-finite values (stat_ydensity).”Warning message:\n",
      "“Removed 6 rows containing missing values (geom_point).”"
     ]
    },
    {
     "data": {},
     "metadata": {},
     "output_type": "display_data"
    },
    {
     "data": {
      "image/png": "[encoded data removed]",
      "text/plain": [
       "plot without title"
      ]
     },
     "metadata": {},
     "output_type": "display_data"
    }
   ],
   "source": [
    "f3_data %>% \n",
    "    gather(trait, value, Trait2a:Trait3a) %>%\n",
    "    ggplot(aes(trait, value)) + geom_violin() + geom_jitter(width = 0.1, alpha = 0.1)"
   ]
  },
  {
   "cell_type": "markdown",
   "metadata": {},
   "source": [
    "# Mapping gone wrong"
   ]
  },
  {
   "cell_type": "markdown",
   "metadata": {},
   "source": [
    "Let's see what happens when we use the same model as in the F2 population, using the set of null markers with no effect. \n",
    "\n",
    "Remeber, we expect no more than 5% of significant markers in this set."
   ]
  },
  {
   "cell_type": "code",
   "execution_count": 57,
   "metadata": {
    "collapsed": false
   },
   "outputs": [
    {
     "name": "stderr",
     "output_type": "stream",
     "text": [
      "Parsed with column specification:\n",
      "cols(\n",
      "  .default = col_integer()\n",
      ")\n",
      "See spec(...) for full column specifications.\n"
     ]
    }
   ],
   "source": [
    "simulated_genotypes = read_csv(\"sim genotypes.csv\")\n",
    "f3_data_null = inner_join(select(f3_data, ID:Trait3), simulated_genotypes, by = \"ID\")\n",
    "#f3_data_null"
   ]
  },
  {
   "cell_type": "code",
   "execution_count": 58,
   "metadata": {
    "collapsed": false
   },
   "outputs": [],
   "source": [
    "n_markers = 675\n",
    "null_marker_fits_trait3 = list()\n",
    "for(i in seq(n_markers)){\n",
    "    current_marker = paste0('G', i)\n",
    "    f3_data_null[[paste0(current_marker, '_D')]] = ifelse(f3_data_null[[current_marker]], 0, 1)\n",
    "    model_formula = paste0(\"Trait3 ~ Sex + LSB + LSW + \", current_marker, \"+\", current_marker, \"_D\")\n",
    "    null_marker_fits_trait3[[i]] = lm(as.formula(model_formula), data = f3_data_null)\n",
    "}"
   ]
  },
  {
   "cell_type": "code",
   "execution_count": 59,
   "metadata": {
    "collapsed": false
   },
   "outputs": [
    {
     "data": {
      "text/plain": [
       "\n",
       "    FALSE      TRUE \n",
       "0.8103704 0.1896296 "
      ]
     },
     "metadata": {},
     "output_type": "display_data"
    }
   ],
   "source": [
    "table(laply(null_marker_fits_trait3, function(x) summary(x)$coefficients[5, 'Pr(>|t|)']) < 0.05) / n_markers"
   ]
  },
  {
   "cell_type": "markdown",
   "metadata": {},
   "source": [
    "Almost four times what we should be getting! Mayby some bootstraping will help?"
   ]
  },
  {
   "cell_type": "markdown",
   "metadata": {},
   "source": [
    "## Mixed models for stratification"
   ]
  },
  {
   "cell_type": "markdown",
   "metadata": {},
   "source": [
    "We can take stratification into account using a random effect for family structure. The lme4 and lmerTest packages allow us to fit the model and extract the relevant p-value. The only difference is the (1|FAMILY) term in the model formula."
   ]
  },
  {
   "cell_type": "code",
   "execution_count": 60,
   "metadata": {
    "collapsed": true
   },
   "outputs": [],
   "source": [
    "n_markers = 675\n",
    "null_marker_mixed_fits_trait3 = list()\n",
    "for(i in seq(n_markers)){\n",
    "    current_marker = paste0('G', i)\n",
    "    f3_data_null[[paste0(current_marker, '_D')]] = ifelse(f3_data_null[[current_marker]], 0, 1)\n",
    "    \n",
    "    model_formula = paste0(\"Trait3 ~ (1|FAMILY) + Sex + LSB + LSW + \", current_marker, \"+\", current_marker, \"_D\")\n",
    "    null_marker_mixed_fits_trait3[[i]] = lmer(as.formula(model_formula), data = f3_data_null)\n",
    "}"
   ]
  },
  {
   "cell_type": "code",
   "execution_count": 61,
   "metadata": {
    "collapsed": false
   },
   "outputs": [
    {
     "data": {
      "text/plain": [
       "\n",
       "     FALSE       TRUE \n",
       "0.94222222 0.05777778 "
      ]
     },
     "metadata": {},
     "output_type": "display_data"
    }
   ],
   "source": [
    "table(laply(null_marker_mixed_fits_trait3, function(x) summary(x)$coefficients[5, 'Pr(>|t|)']) < 0.05) / n_markers"
   ]
  },
  {
   "cell_type": "markdown",
   "metadata": {},
   "source": [
    "Much better!"
   ]
  }
 ],
 "metadata": {
  "kernelspec": {
   "display_name": "R",
   "language": "R",
   "name": "ir"
  },
  "language_info": {
   "codemirror_mode": "r",
   "file_extension": ".r",
   "mimetype": "text/x-r-source",
   "name": "R",
   "pygments_lexer": "r",
   "version": "3.3.1"
  }
 },
 "nbformat": 4,
 "nbformat_minor": 0
}
